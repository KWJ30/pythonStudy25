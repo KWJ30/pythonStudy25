{
  "nbformat": 4,
  "nbformat_minor": 0,
  "metadata": {
    "colab": {
      "provenance": [],
      "authorship_tag": "ABX9TyMwxqCrb4q6z2ND8YOVj2Sx"
    },
    "kernelspec": {
      "name": "python3",
      "display_name": "Python 3"
    },
    "language_info": {
      "name": "python"
    }
  },
  "cells": [
    {
      "cell_type": "code",
      "execution_count": null,
      "metadata": {
        "colab": {
          "base_uri": "https://localhost:8080/"
        },
        "id": "exqmL1JGg6tv",
        "outputId": "3f8e630d-c5be-43a9-889e-5080da07dbec"
      },
      "outputs": [
        {
          "output_type": "stream",
          "name": "stdout",
          "text": [
            "나무를 1번 찍었습니다.\n",
            "나무를 2번 찍었습니다.\n",
            "나무를 3번 찍었습니다.\n",
            "나무를 4번 찍었습니다.\n",
            "나무를 5번 찍었습니다.\n",
            "나무를 6번 찍었습니다.\n",
            "나무를 7번 찍었습니다.\n",
            "나무를 8번 찍었습니다.\n",
            "나무를 9번 찍었습니다.\n",
            "나무를 10번 찍었습니다.\n",
            "나무 넘어갑니다.\n"
          ]
        }
      ],
      "source": [
        "treeHit = 0\n",
        "while treeHit < 10:\n",
        "     treeHit = treeHit +1\n",
        "     print(\"나무를 %d번 찍었습니다.\" % treeHit)\n",
        "     if treeHit == 10:\n",
        "         print(\"나무 넘어갑니다.\")"
      ]
    },
    {
      "cell_type": "code",
      "source": [
        "prompt = \"\"\"\n",
        "1. Add\n",
        "2. Del\n",
        "3. List\n",
        "4. Quit\n",
        "\n",
        "Enter number: \"\"\""
      ],
      "metadata": {
        "id": "5KZ-vFlIhbuZ"
      },
      "execution_count": null,
      "outputs": []
    },
    {
      "cell_type": "code",
      "source": [
        "number = 0\n",
        "while number != 4:\n",
        "     print(prompt)\n",
        "     number = int(input())\n",
        "\n",
        "print(\"종료\")"
      ],
      "metadata": {
        "colab": {
          "base_uri": "https://localhost:8080/"
        },
        "id": "GsAqf8Pehev5",
        "outputId": "1d7dc91c-12ed-4e0b-d6df-f54df7815cff"
      },
      "execution_count": null,
      "outputs": [
        {
          "output_type": "stream",
          "name": "stdout",
          "text": [
            "\n",
            "1. Add\n",
            "2. Del\n",
            "3. List\n",
            "4. Quit\n",
            "\n",
            "Enter number: \n",
            "1\n",
            "\n",
            "1. Add\n",
            "2. Del\n",
            "3. List\n",
            "4. Quit\n",
            "\n",
            "Enter number: \n",
            "2\n",
            "\n",
            "1. Add\n",
            "2. Del\n",
            "3. List\n",
            "4. Quit\n",
            "\n",
            "Enter number: \n",
            "3\n",
            "\n",
            "1. Add\n",
            "2. Del\n",
            "3. List\n",
            "4. Quit\n",
            "\n",
            "Enter number: \n",
            "4\n",
            "종료\n"
          ]
        }
      ]
    },
    {
      "cell_type": "code",
      "source": [
        "coffee = 10\n",
        "money = 300\n",
        "while money:\n",
        "    print(\"돈을 받았으니 커피를 줍니다.\")\n",
        "    coffee = coffee -1\n",
        "    print(\"남은 커피의 양은 %d개입니다.\" % coffee)\n",
        "    if coffee == 0:\n",
        "        print(\"커피가 다 떨어졌습니다. 판매를 중지합니다.\")\n",
        "        break"
      ],
      "metadata": {
        "colab": {
          "base_uri": "https://localhost:8080/"
        },
        "id": "OFgn40GWiB3R",
        "outputId": "64fde146-86dc-4c5f-cffc-091425afdc20"
      },
      "execution_count": null,
      "outputs": [
        {
          "output_type": "stream",
          "name": "stdout",
          "text": [
            "돈을 받았으니 커피를 줍니다.\n",
            "남은 커피의 양은 9개입니다.\n",
            "돈을 받았으니 커피를 줍니다.\n",
            "남은 커피의 양은 8개입니다.\n",
            "돈을 받았으니 커피를 줍니다.\n",
            "남은 커피의 양은 7개입니다.\n",
            "돈을 받았으니 커피를 줍니다.\n",
            "남은 커피의 양은 6개입니다.\n",
            "돈을 받았으니 커피를 줍니다.\n",
            "남은 커피의 양은 5개입니다.\n",
            "돈을 받았으니 커피를 줍니다.\n",
            "남은 커피의 양은 4개입니다.\n",
            "돈을 받았으니 커피를 줍니다.\n",
            "남은 커피의 양은 3개입니다.\n",
            "돈을 받았으니 커피를 줍니다.\n",
            "남은 커피의 양은 2개입니다.\n",
            "돈을 받았으니 커피를 줍니다.\n",
            "남은 커피의 양은 1개입니다.\n",
            "돈을 받았으니 커피를 줍니다.\n",
            "남은 커피의 양은 0개입니다.\n",
            "커피가 다 떨어졌습니다. 판매를 중지합니다.\n"
          ]
        }
      ]
    },
    {
      "cell_type": "code",
      "source": [
        "coffee = 10\n",
        "money = int(input(\"돈을 넣어 주세요: \"))\n",
        "# 종료 = 돈 회수\n",
        "\n",
        "while True:\n",
        "    if money < 300:\n",
        "        print(\"최소 300원 이상을 넣어주세요\")\n",
        "        confirm = input(\"종료하시겠습니까? y/n \")\n",
        "        if confirm == \"y\":\n",
        "            print(\"종료합니다\")\n",
        "            break\n",
        "        else:\n",
        "            money = int(input(\"돈을 넣어 주세요: \"))\n",
        "            continue\n",
        "    count = int(input(\"커피 몇 잔?\"))\n",
        "\n",
        "    if count < 1:\n",
        "        print(\"최소 1잔은 주문해야합니다\")\n",
        "        print(\"종료합니다\")\n",
        "        break\n",
        "\n",
        "    if count > coffee:\n",
        "        print(\"커피재고가 %d개 뿐입니다\" % coffee)\n",
        "        confirm = input(\"다시 주문하시겠습니까? y/n \")\n",
        "        if confirm == \"y\":\n",
        "            continue\n",
        "        else:\n",
        "            break\n",
        "\n",
        "    if money == 300*count:\n",
        "        print(\"커피 %d잔을 줍니다.\" % count)\n",
        "        coffee = coffee - count\n",
        "        print(\"남은 커피의 양은 %d개 입니다.\" % coffee)\n",
        "        print(\"종료합니다\")\n",
        "        break\n",
        "    elif money > 300*count:\n",
        "        print(\"거스름돈 %d원을 주고 커피%d잔을 줍니다.\" % (money -300*count, count))\n",
        "        coffee = coffee - count\n",
        "        print(\"남은 커피의 양은 %d개 입니다.\" % coffee)\n",
        "        print(\"종료합니다\")\n",
        "        break\n",
        "    else:\n",
        "        print(\"돈이 부족합니다.\")\n",
        "        confirm = input(\"수량을 다시 선택하시겠습니까? y/n \")\n",
        "        if confirm == \"y\":\n",
        "            continue\n",
        "        else:\n",
        "            print(\"종료합니다\")\n",
        "            break\n",
        "\n",
        "if coffee == 0:\n",
        "    print(\"커피가 다 떨어졌습니다. 판매를 중지 합니다.\")\n",
        ""
      ],
      "metadata": {
        "colab": {
          "base_uri": "https://localhost:8080/"
        },
        "id": "zHbI7eTJiLmp",
        "outputId": "74146834-d63e-42cb-e81d-7d5754e9c873"
      },
      "execution_count": 3,
      "outputs": [
        {
          "output_type": "stream",
          "name": "stdout",
          "text": [
            "돈을 넣어 주세요: 5000\n",
            "커피 몇 잔?10\n",
            "거스름돈 2000원을 주고 커피10잔을 줍니다.\n",
            "남은 커피의 양은 0개 입니다.\n",
            "종료합니다\n",
            "커피가 다 떨어졌습니다. 판매를 중지 합니다.\n"
          ]
        }
      ]
    }
  ]
}
