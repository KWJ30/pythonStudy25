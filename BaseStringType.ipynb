{
  "nbformat": 4,
  "nbformat_minor": 0,
  "metadata": {
    "colab": {
      "provenance": [],
      "authorship_tag": "ABX9TyNJX2bZyPT9eJw/f+HcyysN",
      "include_colab_link": true
    },
    "kernelspec": {
      "name": "python3",
      "display_name": "Python 3"
    },
    "language_info": {
      "name": "python"
    }
  },
  "cells": [
    {
      "cell_type": "markdown",
      "metadata": {
        "id": "view-in-github",
        "colab_type": "text"
      },
      "source": [
        "<a href=\"https://colab.research.google.com/github/KWJ30/pythonStudy25/blob/master/BaseStringType.ipynb\" target=\"_parent\"><img src=\"https://colab.research.google.com/assets/colab-badge.svg\" alt=\"Open In Colab\"/></a>"
      ]
    },
    {
      "cell_type": "code",
      "execution_count": 2,
      "metadata": {
        "colab": {
          "base_uri": "https://localhost:8080/"
        },
        "id": "BHbZtjInJdOI",
        "outputId": "ccc05982-ca3c-4c44-e8c7-0eacc20941f0"
      },
      "outputs": [
        {
          "output_type": "stream",
          "name": "stdout",
          "text": [
            "Python's favorite food is perl\n"
          ]
        }
      ],
      "source": [
        "# 문자열에 작은따옴표 포함하기\n",
        "# 큰따옴표로 둘러싸기\n",
        "food = \"Python's favorite food is perl\"\n",
        "print(food)"
      ]
    },
    {
      "cell_type": "code",
      "source": [
        "# 작은따옴표를 작은따옴표로 둘러싼 경우\n",
        "food = 'Python's favorite food is perl'\n",
        "print(food) # error\n"
      ],
      "metadata": {
        "colab": {
          "base_uri": "https://localhost:8080/",
          "height": 110
        },
        "id": "zFdyOdy8J0Nh",
        "outputId": "88287297-5e92-4357-944d-db8da2efc76a"
      },
      "execution_count": 3,
      "outputs": [
        {
          "output_type": "error",
          "ename": "SyntaxError",
          "evalue": "unterminated string literal (detected at line 1) (<ipython-input-3-6b85d57f5856>, line 1)",
          "traceback": [
            "\u001b[0;36m  File \u001b[0;32m\"<ipython-input-3-6b85d57f5856>\"\u001b[0;36m, line \u001b[0;32m1\u001b[0m\n\u001b[0;31m    food = 'Python's favorite food is perl'\u001b[0m\n\u001b[0m                                          ^\u001b[0m\n\u001b[0;31mSyntaxError\u001b[0m\u001b[0;31m:\u001b[0m unterminated string literal (detected at line 1)\n"
          ]
        }
      ]
    },
    {
      "cell_type": "code",
      "source": [
        "# 문자열에 큰따옴표 포함하기\n",
        "# 작은따옴표로 둘러싸기\n",
        "say = '\"Python is very easy.\" he says.'\n",
        "print(say)"
      ],
      "metadata": {
        "colab": {
          "base_uri": "https://localhost:8080/"
        },
        "id": "ohWKzIjJKOLI",
        "outputId": "27fd10dc-2a0d-4b4d-877f-d1b73da40275"
      },
      "execution_count": 4,
      "outputs": [
        {
          "output_type": "stream",
          "name": "stdout",
          "text": [
            "\"Python is very easy.\" he says.\n"
          ]
        }
      ]
    },
    {
      "cell_type": "code",
      "source": [
        "# 역슬래시 사용\n",
        "food = 'Python\\'s favorite food is perl'\n",
        "say = \"\\\"Python is very easy.\\\" he says.\"\n",
        "\n",
        "print(food)\n",
        "print(say)\n"
      ],
      "metadata": {
        "colab": {
          "base_uri": "https://localhost:8080/"
        },
        "id": "yVvDTnj2KpTQ",
        "outputId": "f2bd07a9-c010-47c4-d1eb-591cf5e9c13b"
      },
      "execution_count": 5,
      "outputs": [
        {
          "output_type": "stream",
          "name": "stdout",
          "text": [
            "Python's favorite food is perl\n",
            "\"Python is very easy.\" he says.\n"
          ]
        }
      ]
    },
    {
      "cell_type": "code",
      "source": [
        "# 여러 줄의 문자열\n",
        "\n",
        "# \\n 삽입\n",
        "multiline = \"Life is too short\\nYou need python\"\n",
        "print(multiline)\n",
        "print(\"---\")\n",
        "# 연속된 작은따옴표 3개 또는 큰따옴표 3개\n",
        "multiline='''Life is too short\n",
        "You need python'''\n",
        "print(multiline)\n",
        "print(\"---\")"
      ],
      "metadata": {
        "colab": {
          "base_uri": "https://localhost:8080/"
        },
        "id": "-SNSSXDUK2gH",
        "outputId": "6f65b875-527d-440a-d0cc-9f289c9131d8"
      },
      "execution_count": 9,
      "outputs": [
        {
          "output_type": "stream",
          "name": "stdout",
          "text": [
            "Life is too short\n",
            "You need python\n",
            "---\n",
            "Life is too short \n",
            "You need python\n",
            "---\n"
          ]
        }
      ]
    },
    {
      "cell_type": "code",
      "source": [
        "# 줄바꿈 \\n\n",
        "# 탭간격 \\t\n",
        "# \\를 그대로 표현 \\\\\n",
        "# 따옴표를 그대로 표현 \\', \\\""
      ],
      "metadata": {
        "id": "TqsDiJr9LkYY"
      },
      "execution_count": null,
      "outputs": []
    },
    {
      "cell_type": "code",
      "source": [
        "# 문자열 더하기\n",
        "head = \"Python\"\n",
        "tail = \" is fun!\"\n",
        "result = head + tail\n",
        "print(result)\n"
      ],
      "metadata": {
        "colab": {
          "base_uri": "https://localhost:8080/"
        },
        "id": "FonlN-twL7f3",
        "outputId": "65ea4491-4018-48b5-ab4f-1c17c5a3fba6"
      },
      "execution_count": 11,
      "outputs": [
        {
          "output_type": "stream",
          "name": "stdout",
          "text": [
            "Python is fun!\n"
          ]
        }
      ]
    },
    {
      "cell_type": "code",
      "source": [
        "# 문자열 곱하기\n",
        "a = \"python\"\n",
        "result =  a * 2\n",
        "print(result)"
      ],
      "metadata": {
        "colab": {
          "base_uri": "https://localhost:8080/"
        },
        "id": "O11nSPi4MDLn",
        "outputId": "7df990e8-7ae7-43c0-ed8a-3b7435016e36"
      },
      "execution_count": 12,
      "outputs": [
        {
          "output_type": "stream",
          "name": "stdout",
          "text": [
            "pythonpython\n"
          ]
        }
      ]
    },
    {
      "cell_type": "code",
      "source": [
        "# 문자열 길이 구하기\n",
        "a = \"Life is too short\"\n",
        "len(a)"
      ],
      "metadata": {
        "colab": {
          "base_uri": "https://localhost:8080/"
        },
        "id": "qabQdJGGMUlf",
        "outputId": "b2b4fcbc-5afb-4e6c-a8b9-9f250e8fec5e"
      },
      "execution_count": 13,
      "outputs": [
        {
          "output_type": "execute_result",
          "data": {
            "text/plain": [
              "17"
            ]
          },
          "metadata": {},
          "execution_count": 13
        }
      ]
    },
    {
      "cell_type": "code",
      "source": [
        "# 문자열 인덱싱\n",
        "a = \"Life is too short, You need Python\"\n",
        "print(a[0])\n",
        "print(a[12])\n",
        "print(a[-1])  # 뒤에서부터"
      ],
      "metadata": {
        "colab": {
          "base_uri": "https://localhost:8080/"
        },
        "id": "v39U1AEXMar3",
        "outputId": "f13dc6c0-777a-4274-b5d7-7d2d75760b47"
      },
      "execution_count": 17,
      "outputs": [
        {
          "output_type": "stream",
          "name": "stdout",
          "text": [
            "L\n",
            "s\n",
            "n\n"
          ]
        }
      ]
    },
    {
      "cell_type": "code",
      "source": [
        "# 문자열 슬라이싱\n",
        "print(a[5:8])\n",
        "print(a[3:])\n",
        "print(a[:15])\n",
        "print(a[19:-7])  # - 사용가능"
      ],
      "metadata": {
        "colab": {
          "base_uri": "https://localhost:8080/"
        },
        "id": "dPtKUMzNMuJf",
        "outputId": "d7369eb9-6389-4d67-f3a1-f743b9a34bd8"
      },
      "execution_count": 21,
      "outputs": [
        {
          "output_type": "stream",
          "name": "stdout",
          "text": [
            "is \n",
            "e is too short, You need Python\n",
            "Life is too sho\n",
            "You need\n"
          ]
        }
      ]
    },
    {
      "cell_type": "code",
      "source": [
        "a = \"Pithon\"\n",
        "a[1] = 'y'\n",
        "print(a)   # 변경 불가능한(immutable) 자료형\n"
      ],
      "metadata": {
        "colab": {
          "base_uri": "https://localhost:8080/",
          "height": 184
        },
        "id": "encIfH5ENTew",
        "outputId": "3ce1b73c-19a3-401d-fee7-8923a2a9eceb"
      },
      "execution_count": 22,
      "outputs": [
        {
          "output_type": "error",
          "ename": "TypeError",
          "evalue": "'str' object does not support item assignment",
          "traceback": [
            "\u001b[0;31m---------------------------------------------------------------------------\u001b[0m",
            "\u001b[0;31mTypeError\u001b[0m                                 Traceback (most recent call last)",
            "\u001b[0;32m<ipython-input-22-663a9cdc6b64>\u001b[0m in \u001b[0;36m<cell line: 0>\u001b[0;34m()\u001b[0m\n\u001b[1;32m      1\u001b[0m \u001b[0ma\u001b[0m \u001b[0;34m=\u001b[0m \u001b[0;34m\"Pithon\"\u001b[0m\u001b[0;34m\u001b[0m\u001b[0;34m\u001b[0m\u001b[0m\n\u001b[0;32m----> 2\u001b[0;31m \u001b[0ma\u001b[0m\u001b[0;34m[\u001b[0m\u001b[0;36m1\u001b[0m\u001b[0;34m]\u001b[0m \u001b[0;34m=\u001b[0m \u001b[0;34m'y'\u001b[0m\u001b[0;34m\u001b[0m\u001b[0;34m\u001b[0m\u001b[0m\n\u001b[0m\u001b[1;32m      3\u001b[0m \u001b[0mprint\u001b[0m\u001b[0;34m(\u001b[0m\u001b[0ma\u001b[0m\u001b[0;34m)\u001b[0m\u001b[0;34m\u001b[0m\u001b[0;34m\u001b[0m\u001b[0m\n",
            "\u001b[0;31mTypeError\u001b[0m: 'str' object does not support item assignment"
          ]
        }
      ]
    },
    {
      "cell_type": "code",
      "source": [
        "a = \"Pithon\"\n",
        "a[:1] + 'y' + a[2:]\n"
      ],
      "metadata": {
        "colab": {
          "base_uri": "https://localhost:8080/",
          "height": 35
        },
        "id": "wbb8mQ4WNi8P",
        "outputId": "d2aa3169-58c3-4d05-a107-8f2d2ce2f0c2"
      },
      "execution_count": 23,
      "outputs": [
        {
          "output_type": "execute_result",
          "data": {
            "text/plain": [
              "'Python'"
            ],
            "application/vnd.google.colaboratory.intrinsic+json": {
              "type": "string"
            }
          },
          "metadata": {},
          "execution_count": 23
        }
      ]
    },
    {
      "cell_type": "code",
      "source": [
        "# 문자열 포매팅\n",
        "\n",
        "# 숫자 바로 대입\n",
        "result = \"I eat %d apples.\" % 3\n",
        "print(result)\n",
        "\n",
        "# 문자열 바로 대입\n",
        "result = \"I eat %s apples.\" % \"five\"\n",
        "print(result)\n",
        "\n",
        "# 숫자 값을 나타내는 변수로 대입\n",
        "number = 3\n",
        "result = \"I eat %d apples.\" % number\n",
        "print(result)\n",
        "\n",
        "# 2개 이상의 값 넣기\n",
        "number = 10\n",
        "day = \"three\"\n",
        "result = \"I ate %d apples. so I was sick for %s days.\" % (number, day)\n",
        "print(result)"
      ],
      "metadata": {
        "colab": {
          "base_uri": "https://localhost:8080/"
        },
        "id": "yRzSFt1hNunv",
        "outputId": "940a7b9c-9e0d-45fb-d1f7-853c6bf9f6dc"
      },
      "execution_count": 28,
      "outputs": [
        {
          "output_type": "stream",
          "name": "stdout",
          "text": [
            "I eat 3 apples.\n",
            "I eat five apples.\n",
            "I eat 3 apples.\n",
            "I ate 10 apples. so I was sick for three days.\n"
          ]
        }
      ]
    },
    {
      "cell_type": "code",
      "source": [
        "# 문자열 포맷 코드 종류\n",
        "%s\t문자열(String)\n",
        "%c\t문자 1개(character)\n",
        "%d\t정수(Integer)\n",
        "%f\t부동소수(floating-point)\n",
        "%o\t8진수\n",
        "%x\t16진수\n",
        "%%\tLiteral % (문자 % 자체)"
      ],
      "metadata": {
        "colab": {
          "base_uri": "https://localhost:8080/"
        },
        "id": "x-UVnj5hOKDg",
        "outputId": "36786c6f-56c1-49c4-a1b7-125adbf598c7"
      },
      "execution_count": 30,
      "outputs": [
        {
          "output_type": "stream",
          "name": "stderr",
          "text": [
            "UsageError: Line magic function `%s\t문자열(String)` not found.\n"
          ]
        }
      ]
    },
    {
      "cell_type": "code",
      "source": [
        "# %d와 %를 같이 쓸 때는 %%\n",
        "result = \"Error is %d%%.\" % 98\n",
        "print(result)"
      ],
      "metadata": {
        "colab": {
          "base_uri": "https://localhost:8080/"
        },
        "id": "JNrgMGw9Oc1f",
        "outputId": "af55379c-f790-41d6-8dca-95de2e322aaf"
      },
      "execution_count": 31,
      "outputs": [
        {
          "output_type": "stream",
          "name": "stdout",
          "text": [
            "Error is 98%.\n"
          ]
        }
      ]
    },
    {
      "cell_type": "code",
      "source": [
        "# 정렬과 공백\n",
        "result = \"%10s\" % \"hi\"\n",
        "print(result)\n",
        "result = \"%-10sjane.\" % 'hi'\n",
        "print(result)"
      ],
      "metadata": {
        "colab": {
          "base_uri": "https://localhost:8080/"
        },
        "id": "HOq3kjNTOtFX",
        "outputId": "c69ea455-2eaf-434c-bb91-4041e11bb29f"
      },
      "execution_count": 33,
      "outputs": [
        {
          "output_type": "stream",
          "name": "stdout",
          "text": [
            "        hi\n",
            "hi        jane.\n"
          ]
        }
      ]
    },
    {
      "cell_type": "code",
      "source": [
        "# 소수점 표현하기\n",
        "result = \"%0.4f\" % 3.42134234\n",
        "print(result)\n",
        "result = \"%10.4f\" % 3.42134234\n",
        "print(result)"
      ],
      "metadata": {
        "colab": {
          "base_uri": "https://localhost:8080/"
        },
        "id": "BwUgkVDpO3Gn",
        "outputId": "f85a8d8e-e1a9-4a9c-f26e-4aa73f47a5ef"
      },
      "execution_count": 34,
      "outputs": [
        {
          "output_type": "stream",
          "name": "stdout",
          "text": [
            "3.4213\n",
            "    3.4213\n"
          ]
        }
      ]
    },
    {
      "cell_type": "code",
      "source": [
        "# format 함수를 사용한 포매팅\n",
        "result = \"I eat {0} apples\".format(3)\n",
        "print(result)\n",
        "result = \"I eat {0} apples\".format(\"five\")\n",
        "print(result)\n",
        "number = 3\n",
        "result = \"I eat {0} apples\".format(number)\n",
        "print(result)\n",
        "number = 10\n",
        "day = \"three\"\n",
        "result = \"I ate {0} apples. so I was sick for {1} days.\".format(number, day)\n",
        "print(result)"
      ],
      "metadata": {
        "colab": {
          "base_uri": "https://localhost:8080/"
        },
        "id": "x-S6WS6sPL3f",
        "outputId": "f06886fd-9103-438d-b805-755926c5f95d"
      },
      "execution_count": 35,
      "outputs": [
        {
          "output_type": "stream",
          "name": "stdout",
          "text": [
            "I eat 3 apples\n",
            "I eat five apples\n",
            "I eat 3 apples\n",
            "I ate 10 apples. so I was sick for three days.\n"
          ]
        }
      ]
    },
    {
      "cell_type": "code",
      "source": [
        "# 이름으로 넣기\n",
        "result = \"I ate {number} apples. so I was sick for {day} days.\".format(number=10, day=3)\n",
        "print(result)\n",
        "\n",
        "# 혼용 가능\n",
        "result = \"I ate {0} apples. so I was sick for {day} days.\".format(10, day=3)\n",
        "print(result)"
      ],
      "metadata": {
        "colab": {
          "base_uri": "https://localhost:8080/"
        },
        "id": "NIHT3IryPpjn",
        "outputId": "0c7a2f78-050f-40bf-83f5-4a6361d02eb1"
      },
      "execution_count": 37,
      "outputs": [
        {
          "output_type": "stream",
          "name": "stdout",
          "text": [
            "I ate 10 apples. so I was sick for 3 days.\n",
            "I ate 10 apples. so I was sick for 3 days.\n"
          ]
        }
      ]
    },
    {
      "cell_type": "code",
      "source": [
        "# 정렬\n",
        "result = \"{0:<10}\".format(\"hi\")\n",
        "print(result)\n",
        "result = \"{0:>10}\".format(\"hi\")\n",
        "print(result)\n",
        "result = \"{0:^10}\".format(\"hi\")\n",
        "print(result)"
      ],
      "metadata": {
        "colab": {
          "base_uri": "https://localhost:8080/"
        },
        "id": "G8P1U-laP3Vv",
        "outputId": "34a3cff3-74f7-41d8-ed71-cdb0582d271b"
      },
      "execution_count": 39,
      "outputs": [
        {
          "output_type": "stream",
          "name": "stdout",
          "text": [
            "hi        \n",
            "        hi\n",
            "    hi    \n"
          ]
        }
      ]
    },
    {
      "cell_type": "code",
      "source": [
        "# 공백 채우기\n",
        "result = \"{0:=^10}\".format(\"hi\")\n",
        "print(result)\n",
        "result = \"{0:!<10}\".format(\"hi\")\n",
        "print(result)"
      ],
      "metadata": {
        "colab": {
          "base_uri": "https://localhost:8080/"
        },
        "id": "5LYk6eubQA4H",
        "outputId": "34ddfe17-2793-41d5-d535-32d502f5880b"
      },
      "execution_count": 38,
      "outputs": [
        {
          "output_type": "stream",
          "name": "stdout",
          "text": [
            "====hi====\n",
            "hi!!!!!!!!\n"
          ]
        }
      ]
    },
    {
      "cell_type": "code",
      "source": [
        "# 소수점 표현하기\n",
        "y = 3.42134234\n",
        "\"{0:0.4f}\".format(y)"
      ],
      "metadata": {
        "colab": {
          "base_uri": "https://localhost:8080/",
          "height": 35
        },
        "id": "k0qqcSUrQO6P",
        "outputId": "b20e64c4-03a4-4505-dc3d-f95fffc02690"
      },
      "execution_count": 40,
      "outputs": [
        {
          "output_type": "execute_result",
          "data": {
            "text/plain": [
              "'3.4213'"
            ],
            "application/vnd.google.colaboratory.intrinsic+json": {
              "type": "string"
            }
          },
          "metadata": {},
          "execution_count": 40
        }
      ]
    },
    {
      "cell_type": "code",
      "source": [
        "# 중괄호 문자 표현하기\n",
        "\"{{ and }}\".format()"
      ],
      "metadata": {
        "colab": {
          "base_uri": "https://localhost:8080/",
          "height": 35
        },
        "id": "Gm-5cSKCQWqo",
        "outputId": "40a4622e-0e78-4675-eebe-50bf7002871c"
      },
      "execution_count": 41,
      "outputs": [
        {
          "output_type": "execute_result",
          "data": {
            "text/plain": [
              "'{ and }'"
            ],
            "application/vnd.google.colaboratory.intrinsic+json": {
              "type": "string"
            }
          },
          "metadata": {},
          "execution_count": 41
        }
      ]
    },
    {
      "cell_type": "code",
      "source": [
        "# f 문자열 포매팅  (파이썬 3.6 버전 이상)\n",
        "name = '홍길동'\n",
        "age = 30\n",
        "print(f'나의 이름은 {name}입니다. 나이는 {age}입니다.')\n",
        "\n",
        "# 표현식을 지원\n",
        "print(f'나는 내년이면 {age + 1}살이 된다.')\n",
        "\n",
        "# 딕셔너리\n",
        "d = {'name':'홍길동', 'age':30}\n",
        "print(f'나의 이름은 {d[\"name\"]}입니다. 나이는 {d[\"age\"]}입니다.')"
      ],
      "metadata": {
        "colab": {
          "base_uri": "https://localhost:8080/"
        },
        "id": "A0z009SVQbKv",
        "outputId": "326b0d0c-142a-4622-d602-12cb0ebfccf1"
      },
      "execution_count": 44,
      "outputs": [
        {
          "output_type": "stream",
          "name": "stdout",
          "text": [
            "나의 이름은 홍길동입니다. 나이는 30입니다.\n",
            "나는 내년이면 31살이 된다.\n",
            "나의 이름은 홍길동입니다. 나이는 30입니다.\n"
          ]
        }
      ]
    },
    {
      "cell_type": "code",
      "source": [
        "# 금액에 콤마(,) 삽입\n",
        "f\"난 {1500000:,}원이 필요해\""
      ],
      "metadata": {
        "colab": {
          "base_uri": "https://localhost:8080/",
          "height": 35
        },
        "id": "n9Mz0evLQ-8n",
        "outputId": "8dbf722a-64bb-451b-8ba4-78da12457b5f"
      },
      "execution_count": 45,
      "outputs": [
        {
          "output_type": "execute_result",
          "data": {
            "text/plain": [
              "'난 1,500,000원이 필요해'"
            ],
            "application/vnd.google.colaboratory.intrinsic+json": {
              "type": "string"
            }
          },
          "metadata": {},
          "execution_count": 45
        }
      ]
    },
    {
      "cell_type": "code",
      "source": [
        "# 문자열 관련 함수들\n",
        "a = \"hobby\"\n",
        "a.count('b')"
      ],
      "metadata": {
        "colab": {
          "base_uri": "https://localhost:8080/"
        },
        "id": "Uvkk0DPBRG8n",
        "outputId": "7dceade1-464d-4e20-cc1e-ac4cfbacec24"
      },
      "execution_count": 46,
      "outputs": [
        {
          "output_type": "execute_result",
          "data": {
            "text/plain": [
              "2"
            ]
          },
          "metadata": {},
          "execution_count": 46
        }
      ]
    },
    {
      "cell_type": "code",
      "source": [
        "# 위치 알려 주기 1 - find\n",
        "a = \"Python is the best choice\"\n",
        "print(a.find('b'))\n",
        "print(a.find('k'))   # 존재하지 않는다면 -1을 반환\n",
        "\n",
        "# 위치 알려 주기 2 - index\n",
        "a = \"Life is too short\"\n",
        "print(a.index('t'))\n",
        "# print(a.index('k'))     # 존재하지 않는 문자를 찾으면 오류가 발생"
      ],
      "metadata": {
        "colab": {
          "base_uri": "https://localhost:8080/"
        },
        "id": "ma18twHXRLd_",
        "outputId": "34f67db0-aa58-468a-9059-d5d721bbdd98"
      },
      "execution_count": 50,
      "outputs": [
        {
          "output_type": "stream",
          "name": "stdout",
          "text": [
            "14\n",
            "-1\n",
            "8\n"
          ]
        }
      ]
    },
    {
      "cell_type": "code",
      "source": [
        "# 문자열 삽입 - join\n",
        "print(\",\".join('abcd'))\n",
        "print(\",\".join(['a', 'b', 'c', 'd']))  # 리스트나 튜플도 사용가능"
      ],
      "metadata": {
        "colab": {
          "base_uri": "https://localhost:8080/"
        },
        "id": "nrOCHnPuT09X",
        "outputId": "68339dbe-c1dc-47f6-f55f-68c7e844a73f"
      },
      "execution_count": 52,
      "outputs": [
        {
          "output_type": "stream",
          "name": "stdout",
          "text": [
            "a,b,c,d\n",
            "a,b,c,d\n"
          ]
        }
      ]
    },
    {
      "cell_type": "code",
      "source": [
        "# upper, lower, lstrip, rstrip, strip\n",
        "a = \"hi\"\n",
        "UP = a.upper()\n",
        "print(UP)\n",
        "print(\"a 값 재확인: \" + a)  # a 자체를 변경하는 것이 아닌 대문자로 바꾼 값을 리턴\n",
        "LO = UP.lower()\n",
        "print(LO)\n",
        "\n",
        "\n",
        "a = \" hi \"\n",
        "print(repr(a.lstrip()))  # 왼쪽 공백 제거 후 출력\n",
        "print(repr(a.rstrip()))  # 오른쪽 공백 제거 후 출력\n",
        "print(repr(a.strip()))   # 양쪽 공백 제거 후 출력"
      ],
      "metadata": {
        "colab": {
          "base_uri": "https://localhost:8080/"
        },
        "id": "AGWRd917UOHn",
        "outputId": "834e1f32-738a-4338-bcb3-f0f9feed0692"
      },
      "execution_count": 56,
      "outputs": [
        {
          "output_type": "stream",
          "name": "stdout",
          "text": [
            "HI\n",
            "a 값 재확인: hi\n",
            "hi\n",
            "'hi '\n",
            "' hi'\n",
            "'hi'\n"
          ]
        }
      ]
    },
    {
      "cell_type": "code",
      "source": [
        "# replace, split\n",
        "a = \"Life is too short\"\n",
        "print(a.replace(\"Life\", \"Your leg\"))\n",
        "\n",
        "# 아무 값도 넣어 주지 않으면 공백([Space], [Tab], [Enter])을 기준으로 문자열을 나누어 준다.\n",
        "\n",
        "a = \"Life is too short\"\n",
        "print(a.split())\n",
        "b = \"a:b:c:d\"\n",
        "print(b.split(':'))\n",
        "\n",
        "# upper 뿐만 아니라 lower, join, lstrip, rstrip, strip, replace, split 함수는\n",
        "# 모두 이와 같은 규칙이 적용되어 문자열 자체의 값이 변경되는 것이 아니라 변경된 값을 리턴한다는 사실에 주의하자.\n"
      ],
      "metadata": {
        "colab": {
          "base_uri": "https://localhost:8080/"
        },
        "id": "rHuQd2rdVGdX",
        "outputId": "efa311bc-3f4e-4268-aba3-455438aa8e7d"
      },
      "execution_count": 55,
      "outputs": [
        {
          "output_type": "stream",
          "name": "stdout",
          "text": [
            "Your leg is too short\n",
            "['Life', 'is', 'too', 'short']\n",
            "['a', 'b', 'c', 'd']\n"
          ]
        }
      ]
    }
  ]
}