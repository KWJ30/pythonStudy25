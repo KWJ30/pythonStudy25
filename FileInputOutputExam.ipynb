{
  "nbformat": 4,
  "nbformat_minor": 0,
  "metadata": {
    "colab": {
      "provenance": [],
      "authorship_tag": "ABX9TyMYvC7Fau8SdQ392LFYaoe2"
    },
    "kernelspec": {
      "name": "python3",
      "display_name": "Python 3"
    },
    "language_info": {
      "name": "python"
    }
  },
  "cells": [
    {
      "cell_type": "code",
      "execution_count": null,
      "metadata": {
        "id": "_uGPJSabE0hA"
      },
      "outputs": [],
      "source": [
        "# 파이썬은 파일을 이용해서 읽고쓰기가 가능하다.\n",
        "# 과거에는 메모장으로 만든 텍스트 파일을 사용했었는데\n",
        "# 최근에는 엑셀로 만든 csv 파일을 활용하기도 한다.\n",
        "\n",
        "# 코랩은 리눅스 가상머신을 활용하고 있다.\n",
        "# 왼쪽에 폴더 아이콘을 선택하면 리눅스 커널이 보인다.\n",
        "# .. 을 누르면 상위폴더로 간다.\n",
        "# 대부분 우리는 content라는 폴더의 데이터를 활용한다.\n",
        "\n",
        "# 파일을 열고 사용하려면 open() 함수를 활용한다.\n",
        "# 파일객체 = open(파일이름, 모드)\n",
        "# r(읽기전용),w(쓰기가능),a(추가가능) 3가지 모드를 주로 사용\n",
        "# 주의사항 : 파일을 열고 처리 후 마지막에는 .close() 로 닫아줘야함(필수)\n",
        "# 파일경로 (위치정보)는 / (슬래시)를 활용\n",
        "# 간혹 c:\\User\\kkw\\test.csv 이런 파일을 열고 싶으면??\n",
        "# c:\\\\user\\\\kkw\\\\test.csv 처럼 \\\\을 써야 \\로 인식한다. (이스케이프)\n",
        "# c:/user/kkw/test.csv 로 사용함"
      ]
    },
    {
      "cell_type": "code",
      "source": [
        "# 파일 쓰기\n",
        "f = open(\"새파일.txt\", 'w') # 덮어쓰기\n",
        "for i in range(1,11):\n",
        "    data = \"%d 번째 줄입니다. \\n\" % i\n",
        "    f.write(data)\n",
        "f.close()"
      ],
      "metadata": {
        "id": "V9n3fls5NmkA"
      },
      "execution_count": null,
      "outputs": []
    },
    {
      "cell_type": "code",
      "source": [
        "# 파일 읽기\n",
        "# 1. readline 함수 이용하기\n",
        "f = open(\"새파일.txt\", 'r')\n",
        "line = f.readline()\n",
        "print(line)\n",
        "f.close()\n",
        "\n",
        "f = open(\"새파일.txt\", 'r')\n",
        "while True:\n",
        "    line = f.readline()\n",
        "    if not line: break\n",
        "    print(line)\n",
        "f.close()"
      ],
      "metadata": {
        "colab": {
          "base_uri": "https://localhost:8080/"
        },
        "id": "_VVnmeruPT24",
        "outputId": "59426a0e-58ce-4837-a667-5a44fb8e8c64"
      },
      "execution_count": 21,
      "outputs": [
        {
          "output_type": "stream",
          "name": "stdout",
          "text": [
            "1 번째 줄입니다. \n",
            "\n",
            "1 번째 줄입니다. \n",
            "\n",
            "2 번째 줄입니다. \n",
            "\n",
            "3 번째 줄입니다. \n",
            "\n",
            "4 번째 줄입니다. \n",
            "\n",
            "5 번째 줄입니다. \n",
            "\n",
            "6 번째 줄입니다. \n",
            "\n",
            "7 번째 줄입니다. \n",
            "\n",
            "8 번째 줄입니다. \n",
            "\n",
            "9 번째 줄입니다. \n",
            "\n",
            "10 번째 줄입니다. \n",
            "\n"
          ]
        }
      ]
    },
    {
      "cell_type": "code",
      "source": [
        "# 파일 읽기\n",
        "# 2. readlines 함수 사용하기\n",
        "f = open(\"새파일.txt\", 'r')\n",
        "lines = f.readlines()\n",
        "for line in lines:\n",
        "    print(line)\n",
        "f.close()\n",
        "\n",
        "# 파일의 모든 줄을 읽어서 각각의 줄을 요소로 가지는 리스트를 리턴"
      ],
      "metadata": {
        "colab": {
          "base_uri": "https://localhost:8080/"
        },
        "id": "CZD6tdTqP81A",
        "outputId": "bb515a61-0b19-4974-f8bc-117fec2b685b"
      },
      "execution_count": 28,
      "outputs": [
        {
          "output_type": "stream",
          "name": "stdout",
          "text": [
            "1 번째 줄입니다. \n",
            "\n",
            "2 번째 줄입니다. \n",
            "\n",
            "3 번째 줄입니다. \n",
            "\n",
            "4 번째 줄입니다. \n",
            "\n",
            "5 번째 줄입니다. \n",
            "\n",
            "6 번째 줄입니다. \n",
            "\n",
            "7 번째 줄입니다. \n",
            "\n",
            "8 번째 줄입니다. \n",
            "\n",
            "9 번째 줄입니다. \n",
            "\n",
            "10 번째 줄입니다. \n",
            "\n"
          ]
        }
      ]
    },
    {
      "cell_type": "code",
      "source": [
        "# 줄 바꿈 문자제거\n",
        "f = open(\"새파일.txt\", 'r')\n",
        "lines = f.readlines()\n",
        "for line in lines:\n",
        "    line = line.strip()  # 줄 끝의 줄 바꿈 문자를 제거한다.\n",
        "    print(line)\n",
        "f.close()"
      ],
      "metadata": {
        "colab": {
          "base_uri": "https://localhost:8080/"
        },
        "id": "5RuR1aG3QSXg",
        "outputId": "5782f3b9-1968-46dc-fddd-d6424ea114c3"
      },
      "execution_count": 25,
      "outputs": [
        {
          "output_type": "stream",
          "name": "stdout",
          "text": [
            "1 번째 줄입니다.\n",
            "2 번째 줄입니다.\n",
            "3 번째 줄입니다.\n",
            "4 번째 줄입니다.\n",
            "5 번째 줄입니다.\n",
            "6 번째 줄입니다.\n",
            "7 번째 줄입니다.\n",
            "8 번째 줄입니다.\n",
            "9 번째 줄입니다.\n",
            "10 번째 줄입니다.\n"
          ]
        }
      ]
    },
    {
      "cell_type": "code",
      "source": [
        "# 파일 읽기\n",
        "# 3. read 함수 사용하기\n",
        "f = open(\"새파일.txt\", 'r')\n",
        "\n",
        "# 파일의 내용을 읽어서 출력\n",
        "content = f.read()\n",
        "print(content)\n",
        "\n",
        "f.close()\n",
        "\n",
        "# 파일의 내용 전체를 문자열로 리턴"
      ],
      "metadata": {
        "colab": {
          "base_uri": "https://localhost:8080/"
        },
        "id": "Ba_nFmBDKE42",
        "outputId": "90c2387c-cc7f-4666-bc9c-7797a571121c"
      },
      "execution_count": null,
      "outputs": [
        {
          "output_type": "stream",
          "name": "stdout",
          "text": [
            "1 번째 줄입니다. \n",
            "2 번째 줄입니다. \n",
            "3 번째 줄입니다. \n",
            "4 번째 줄입니다. \n",
            "5 번째 줄입니다. \n",
            "6 번째 줄입니다. \n",
            "7 번째 줄입니다. \n",
            "8 번째 줄입니다. \n",
            "9 번째 줄입니다. \n",
            "10 번째 줄입니다. \n",
            "\n"
          ]
        }
      ]
    },
    {
      "cell_type": "code",
      "source": [
        "# 파일 읽기\n",
        "# 4. 파일 객체를 for 문과 함께 사용하기\n",
        "f = open(\"새파일.txt\", 'r')\n",
        "for line in f:\n",
        "    print(line)\n",
        "f.close()\n",
        "\n",
        "# 리턴방식이 아닌 출력 또는 처리에 가까운 방식"
      ],
      "metadata": {
        "colab": {
          "base_uri": "https://localhost:8080/"
        },
        "id": "JzfE1mBzKK2P",
        "outputId": "20806fd2-0505-4a82-9336-29e96af19178"
      },
      "execution_count": 27,
      "outputs": [
        {
          "output_type": "stream",
          "name": "stdout",
          "text": [
            "1 번째 줄입니다. \n",
            "\n",
            "2 번째 줄입니다. \n",
            "\n",
            "3 번째 줄입니다. \n",
            "\n",
            "4 번째 줄입니다. \n",
            "\n",
            "5 번째 줄입니다. \n",
            "\n",
            "6 번째 줄입니다. \n",
            "\n",
            "7 번째 줄입니다. \n",
            "\n",
            "8 번째 줄입니다. \n",
            "\n",
            "9 번째 줄입니다. \n",
            "\n",
            "10 번째 줄입니다. \n",
            "\n"
          ]
        }
      ]
    },
    {
      "cell_type": "code",
      "source": [
        "# 파일에 새로운 내용 추가하기\n",
        "f = open(\"새파일.txt\", 'a')\n",
        "for i in range(11, 20):\n",
        "    data = \"%d번째 줄입니다.\\n\" % i\n",
        "    f.write(data)\n",
        "f.close()"
      ],
      "metadata": {
        "id": "kyvws6U2TOxo"
      },
      "execution_count": 29,
      "outputs": []
    },
    {
      "cell_type": "code",
      "source": [
        "f = open(\"새파일.txt\", 'r')\n",
        "\n",
        "# 파일의 내용을 읽어서 출력\n",
        "content = f.read()\n",
        "print(content)\n",
        "\n",
        "f.close()"
      ],
      "metadata": {
        "colab": {
          "base_uri": "https://localhost:8080/"
        },
        "id": "QmsMBH07TXaH",
        "outputId": "7c8d2f1c-4cd7-4267-e27c-b1cca930c648"
      },
      "execution_count": 30,
      "outputs": [
        {
          "output_type": "stream",
          "name": "stdout",
          "text": [
            "1 번째 줄입니다. \n",
            "2 번째 줄입니다. \n",
            "3 번째 줄입니다. \n",
            "4 번째 줄입니다. \n",
            "5 번째 줄입니다. \n",
            "6 번째 줄입니다. \n",
            "7 번째 줄입니다. \n",
            "8 번째 줄입니다. \n",
            "9 번째 줄입니다. \n",
            "10 번째 줄입니다. \n",
            "11번째 줄입니다.\n",
            "12번째 줄입니다.\n",
            "13번째 줄입니다.\n",
            "14번째 줄입니다.\n",
            "15번째 줄입니다.\n",
            "16번째 줄입니다.\n",
            "17번째 줄입니다.\n",
            "18번째 줄입니다.\n",
            "19번째 줄입니다.\n",
            "\n"
          ]
        }
      ]
    },
    {
      "cell_type": "code",
      "source": [
        "# with 문과 함께 사용하기\n",
        "with open(\"새파일.txt\", \"w\") as f:\n",
        "    f.write(\"Life is too short, you need python\")\n",
        "\n",
        "# with 블록(with 문에 속해 있는 문장)을 벗어나는 순간, 열린 파일 객체 f가 자동으로 닫힌다.\n",
        "# with 구문은 예외가 발생하더라도 파일을 자동으로 닫아줌"
      ],
      "metadata": {
        "id": "mZcGb1TYTbiv"
      },
      "execution_count": 31,
      "outputs": []
    },
    {
      "cell_type": "code",
      "source": [
        "f = open(\"새파일.txt\", 'r')\n",
        "\n",
        "# 파일의 내용을 읽어서 출력\n",
        "content = f.read()\n",
        "print(content)\n",
        "\n",
        "f.close()"
      ],
      "metadata": {
        "colab": {
          "base_uri": "https://localhost:8080/"
        },
        "id": "Lsy5MpXRTndn",
        "outputId": "ad5afda9-f015-4a55-9e89-8388f632d991"
      },
      "execution_count": 32,
      "outputs": [
        {
          "output_type": "stream",
          "name": "stdout",
          "text": [
            "Life is too short, you need python\n"
          ]
        }
      ]
    },
    {
      "cell_type": "code",
      "source": [
        "# 요약\n",
        "\n",
        "line = f.readline()\n",
        "print(line)\n",
        "\n",
        "# 첫줄 문자열로 리턴\n",
        "\n",
        "\n",
        "lines = f.readlines()\n",
        "for line in lines:\n",
        "    print(line)\n",
        "\n",
        "# 파일의 모든 줄을 읽어서 각각의 줄을 요소로 가지는 리스트를 리턴\n",
        "\n",
        "\n",
        "content = f.read()\n",
        "print(content)\n",
        "\n",
        "# 파일의 내용 전체를 문자열로 리턴\n",
        "\n",
        "\n",
        "for line in f:\n",
        "    print(line)\n",
        "\n",
        "# 파일 객체를 순회하며 한 줄씩 읽고 출력"
      ],
      "metadata": {
        "id": "H5xbcLj5Vp_H"
      },
      "execution_count": 33,
      "outputs": []
    }
  ]
}