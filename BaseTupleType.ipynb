{
  "nbformat": 4,
  "nbformat_minor": 0,
  "metadata": {
    "colab": {
      "provenance": [],
      "authorship_tag": "ABX9TyM/Q08EQ5ekh5XrORXHeC4T",
      "include_colab_link": true
    },
    "kernelspec": {
      "name": "python3",
      "display_name": "Python 3"
    },
    "language_info": {
      "name": "python"
    }
  },
  "cells": [
    {
      "cell_type": "markdown",
      "metadata": {
        "id": "view-in-github",
        "colab_type": "text"
      },
      "source": [
        "<a href=\"https://colab.research.google.com/github/KWJ30/pythonStudy25/blob/master/BaseTupleType.ipynb\" target=\"_parent\"><img src=\"https://colab.research.google.com/assets/colab-badge.svg\" alt=\"Open In Colab\"/></a>"
      ]
    },
    {
      "cell_type": "code",
      "execution_count": null,
      "metadata": {
        "id": "B_TxYKrIdo36"
      },
      "outputs": [],
      "source": [
        "# 튜플 생성\n",
        "t1 = ()\n",
        "t2 = (1,)   # 1개의 요소인 경우 뒤에 쉼표(,)\n",
        "t3 = (1, 2, 3)\n",
        "t4 = 1, 2, 3    # 소괄호 생략가능\n",
        "t5 = ('a', 'b', ('ab', 'cd'))"
      ]
    },
    {
      "cell_type": "code",
      "source": [
        "# 삭제, 변경 불가\n",
        "t1 = ('a', 'b', 'c')  # 튜플 정의\n",
        "\n",
        "# 첫 번째 오류: 튜플에서 요소를 삭제하려고 하면 오류가 발생\n",
        "try:\n",
        "    del t1[0]  # 튜플에서 삭제하려고 하면 오류 발생\n",
        "except TypeError as e:\n",
        "    print(f\"첫 번째 오류: {e}\")\n",
        "\n",
        "# 두 번째 오류: 튜플에서 요소를 변경하려고 하면 오류가 발생\n",
        "try:\n",
        "    t1[0] = 'c'  # 튜플에서 요소 변경하려고 하면 오류 발생\n",
        "except TypeError as e:\n",
        "    print(f\"두 번째 오류: {e}\")\n"
      ],
      "metadata": {
        "colab": {
          "base_uri": "https://localhost:8080/"
        },
        "id": "7uxF-NlEeGfA",
        "outputId": "35e09563-fabd-4b50-b2e5-2798e55665e3"
      },
      "execution_count": 2,
      "outputs": [
        {
          "output_type": "stream",
          "name": "stdout",
          "text": [
            "첫 번째 오류: 'tuple' object doesn't support item deletion\n",
            "두 번째 오류: 'tuple' object does not support item assignment\n"
          ]
        }
      ]
    },
    {
      "cell_type": "code",
      "source": [
        "# 인덱싱, 슬라이싱\n",
        "t1 = (1, 2, 'a', 'b')\n",
        "print(t1[0])\n",
        "t1 = (1, 2, 'a', 'b')\n",
        "print(t1[1:])"
      ],
      "metadata": {
        "colab": {
          "base_uri": "https://localhost:8080/"
        },
        "id": "GHf0NfMReyhR",
        "outputId": "46d982e0-6bcc-47bd-916c-f35ef0becd17"
      },
      "execution_count": 3,
      "outputs": [
        {
          "output_type": "stream",
          "name": "stdout",
          "text": [
            "1\n",
            "(2, 'a', 'b')\n"
          ]
        }
      ]
    },
    {
      "cell_type": "code",
      "source": [
        "# 더하기, 곱하기, 길이구하기\n",
        "t1 = (1, 2, 'a', 'b')\n",
        "t2 = (3, 4)\n",
        "print(t1 + t2)\n",
        "\n",
        "print(t1*3)\n",
        "print(len(t1))"
      ],
      "metadata": {
        "colab": {
          "base_uri": "https://localhost:8080/"
        },
        "id": "Ni9B5_XpfA3o",
        "outputId": "ec52d686-dcd1-40c8-ee90-7d5a2c69fca1"
      },
      "execution_count": 7,
      "outputs": [
        {
          "output_type": "stream",
          "name": "stdout",
          "text": [
            "(1, 2, 'a', 'b', 3, 4)\n",
            "(1, 2, 'a', 'b', 1, 2, 'a', 'b', 1, 2, 'a', 'b')\n",
            "4\n"
          ]
        }
      ]
    }
  ]
}