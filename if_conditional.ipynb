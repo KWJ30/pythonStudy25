{
  "nbformat": 4,
  "nbformat_minor": 0,
  "metadata": {
    "colab": {
      "provenance": [],
      "authorship_tag": "ABX9TyNlfV4FFI784PJ8qiACi2vb",
      "include_colab_link": true
    },
    "kernelspec": {
      "name": "python3",
      "display_name": "Python 3"
    },
    "language_info": {
      "name": "python"
    }
  },
  "cells": [
    {
      "cell_type": "markdown",
      "metadata": {
        "id": "view-in-github",
        "colab_type": "text"
      },
      "source": [
        "<a href=\"https://colab.research.google.com/github/KWJ30/pythonStudy25/blob/master/if_conditional.ipynb\" target=\"_parent\"><img src=\"https://colab.research.google.com/assets/colab-badge.svg\" alt=\"Open In Colab\"/></a>"
      ]
    },
    {
      "cell_type": "code",
      "execution_count": 2,
      "metadata": {
        "colab": {
          "base_uri": "https://localhost:8080/"
        },
        "id": "D-PJ5YUeGULQ",
        "outputId": "719afa4c-b8ee-4114-b982-64fb26d8e347"
      },
      "outputs": [
        {
          "output_type": "stream",
          "name": "stdout",
          "text": [
            "택시를 타고 가라\n"
          ]
        }
      ],
      "source": [
        "money = True\n",
        "if money:\n",
        "     print(\"택시를 타고 가라\")\n",
        "else:\n",
        "     print(\"걸어 가라\")"
      ]
    },
    {
      "cell_type": "code",
      "source": [
        "money = 2000\n",
        "if money >= 3000:\n",
        "    print(\"택시를 타고 가라\")\n",
        "else:\n",
        "    print(\"걸어가라\")"
      ],
      "metadata": {
        "colab": {
          "base_uri": "https://localhost:8080/"
        },
        "id": "-WOtRuyGG4Fg",
        "outputId": "cd449be0-17db-4e5b-a0db-42b07f57c5b7"
      },
      "execution_count": 3,
      "outputs": [
        {
          "output_type": "stream",
          "name": "stdout",
          "text": [
            "걸어가라\n"
          ]
        }
      ]
    },
    {
      "cell_type": "code",
      "source": [
        "money = 2000\n",
        "card = True\n",
        "if money >= 3000 or card:\n",
        "    print(\"택시를 타고 가라\")\n",
        "else:\n",
        "    print(\"걸어가라\")"
      ],
      "metadata": {
        "colab": {
          "base_uri": "https://localhost:8080/"
        },
        "id": "Q77shCbnG-Wg",
        "outputId": "3e6da83a-a4ce-4d33-b4d3-eb6a1bda9780"
      },
      "execution_count": 4,
      "outputs": [
        {
          "output_type": "stream",
          "name": "stdout",
          "text": [
            "택시를 타고 가라\n"
          ]
        }
      ]
    },
    {
      "cell_type": "code",
      "source": [
        "pocket = ['paper', 'cellphone', 'money']\n",
        "if 'money' in pocket:\n",
        "    print(\"택시를 타고 가라\")\n",
        "else:\n",
        "    print(\"걸어가라\")"
      ],
      "metadata": {
        "colab": {
          "base_uri": "https://localhost:8080/"
        },
        "id": "BvbgXaQvHHwQ",
        "outputId": "d1e9219a-ade4-4709-b34d-623917da389b"
      },
      "execution_count": 5,
      "outputs": [
        {
          "output_type": "stream",
          "name": "stdout",
          "text": [
            "택시를 타고 가라\n"
          ]
        }
      ]
    },
    {
      "cell_type": "code",
      "source": [
        "pocket = ['paper', 'money', 'cellphone']\n",
        "if 'money' in pocket:\n",
        "    pass  # 아무런 결괏값도 보여 주지 않음\n",
        "else:\n",
        "    print(\"카드를 꺼내라\")"
      ],
      "metadata": {
        "id": "OFfGoAk5HgnA"
      },
      "execution_count": 7,
      "outputs": []
    },
    {
      "cell_type": "code",
      "source": [
        "pocket = ['paper', 'cellphone']\n",
        "card = True\n",
        "if 'money' in pocket:\n",
        "     print(\"택시를 타고가라(현금)\")\n",
        "elif card:\n",
        "     print(\"택시를 타고가라(카드)\")\n",
        "else:\n",
        "     print(\"걸어가라\")"
      ],
      "metadata": {
        "colab": {
          "base_uri": "https://localhost:8080/"
        },
        "id": "-535kmF5H0PQ",
        "outputId": "382573ae-2ab7-498f-a85f-beb69f8aff58"
      },
      "execution_count": 9,
      "outputs": [
        {
          "output_type": "stream",
          "name": "stdout",
          "text": [
            "택시를 타고가라(카드)\n"
          ]
        }
      ]
    },
    {
      "cell_type": "code",
      "source": [
        "# 간결한 작성법(수행문장이 짧을 때)\n",
        "pocket = ['paper', 'money', 'cellphone']\n",
        "if 'money' in pocket: pass\n",
        "else: print(\"카드를 꺼내라\")"
      ],
      "metadata": {
        "id": "s--G4E5HIHNw"
      },
      "execution_count": 13,
      "outputs": []
    },
    {
      "cell_type": "code",
      "source": [
        "# 조건부 표현식\n",
        "import random\n",
        "\n",
        "# 0부터 100까지의 랜덤한 정수 생성\n",
        "score = random.randint(0, 100)\n",
        "print(score)\n",
        "message = \"success\" if score >= 60 else \"failure\"\n",
        "print(message)"
      ],
      "metadata": {
        "colab": {
          "base_uri": "https://localhost:8080/"
        },
        "id": "mj03Tl0lIt5p",
        "outputId": "55cb6d7a-d8f8-41a9-98a8-38ae375adfd9"
      },
      "execution_count": 16,
      "outputs": [
        {
          "output_type": "stream",
          "name": "stdout",
          "text": [
            "46\n",
            "failure\n"
          ]
        }
      ]
    }
  ]
}