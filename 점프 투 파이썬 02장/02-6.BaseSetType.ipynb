{
  "nbformat": 4,
  "nbformat_minor": 0,
  "metadata": {
    "colab": {
      "provenance": [],
      "authorship_tag": "ABX9TyN/G6Y/2cU2Nfcvbe3Bds6z"
    },
    "kernelspec": {
      "name": "python3",
      "display_name": "Python 3"
    },
    "language_info": {
      "name": "python"
    }
  },
  "cells": [
    {
      "cell_type": "code",
      "execution_count": 9,
      "metadata": {
        "colab": {
          "base_uri": "https://localhost:8080/"
        },
        "id": "O3cxw-sn1FSF",
        "outputId": "da4a81b0-cad7-401d-a8ac-dfb40ea3c0ad"
      },
      "outputs": [
        {
          "output_type": "stream",
          "name": "stdout",
          "text": [
            "{1, 2, 3}\n",
            "{'l', 'o', 'H', 'e'}\n"
          ]
        }
      ],
      "source": [
        "# 집합 자료형의 특징\n",
        "s1 = set([1, 2, 3])\n",
        "print(s1)\n",
        "s2 = set(\"Hello\")\n",
        "print(s2) # 중복x, 순서x"
      ]
    },
    {
      "cell_type": "code",
      "source": [
        "# 인덱싱 접근 x. 리스트나 튜플로 변환한 후에 해야 한다\n",
        "s1 = set([1, 2, 3])\n",
        "l1 = list(s1)\n",
        "print(l1[0])\n",
        "t1 = tuple(s1)\n",
        "print(t1[1])"
      ],
      "metadata": {
        "colab": {
          "base_uri": "https://localhost:8080/"
        },
        "id": "-mQhvupi1foX",
        "outputId": "6dd0d0d3-07b8-429e-e8df-a8c7c3dff2cf"
      },
      "execution_count": 12,
      "outputs": [
        {
          "output_type": "stream",
          "name": "stdout",
          "text": [
            "1\n",
            "2\n"
          ]
        }
      ]
    },
    {
      "cell_type": "code",
      "source": [
        "# 교집합, 합집합, 차집합\n",
        "s1 = set([1, 2, 3, 4, 5, 6])\n",
        "s2 = set([4, 5, 6, 7, 8, 9])\n",
        "\n",
        "# 교집합\n",
        "print(s1 & s2)\n",
        "print(s1.intersection(s2))\n",
        "\n",
        "# 합집합\n",
        "print(s1 | s2)\n",
        "print(s1.union(s2))\n",
        "\n",
        "# 차집합\n",
        "print(s1 - s2)\n",
        "print(s1.difference(s2))\n"
      ],
      "metadata": {
        "colab": {
          "base_uri": "https://localhost:8080/"
        },
        "id": "9UfSCPR13LYo",
        "outputId": "3f243c24-2e06-4a59-bf21-8f8f1c40e693"
      },
      "execution_count": 14,
      "outputs": [
        {
          "output_type": "stream",
          "name": "stdout",
          "text": [
            "{4, 5, 6}\n",
            "{4, 5, 6}\n",
            "{1, 2, 3, 4, 5, 6, 7, 8, 9}\n",
            "{1, 2, 3, 4, 5, 6, 7, 8, 9}\n",
            "{1, 2, 3}\n",
            "{1, 2, 3}\n"
          ]
        }
      ]
    },
    {
      "cell_type": "code",
      "source": [
        "# 값 1개 추가하기 - add\n",
        "s1 = set([1, 2, 3])\n",
        "s1.add(4)\n",
        "print(s1)\n",
        "\n",
        "# 값 여러 개 추가하기 - update\n",
        "s1 = set([1, 2, 3])\n",
        "s1.update([4, 5, 6])\n",
        "print(s1)\n",
        "\n",
        "# 특정 값 제거하기 - remove\n",
        "s1 = set([1, 2, 3])\n",
        "s1.remove(2)\n",
        "print(s1)"
      ],
      "metadata": {
        "colab": {
          "base_uri": "https://localhost:8080/"
        },
        "id": "t-HNxcez328I",
        "outputId": "b5934a79-e26c-422c-894c-f5398c55a2ca"
      },
      "execution_count": 17,
      "outputs": [
        {
          "output_type": "stream",
          "name": "stdout",
          "text": [
            "{1, 2, 3, 4}\n",
            "{1, 2, 3, 4, 5, 6}\n",
            "{1, 3}\n"
          ]
        }
      ]
    }
  ]
}
