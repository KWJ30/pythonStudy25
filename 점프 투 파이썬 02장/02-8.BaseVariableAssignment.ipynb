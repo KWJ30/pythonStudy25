{
  "nbformat": 4,
  "nbformat_minor": 0,
  "metadata": {
    "colab": {
      "provenance": [],
      "authorship_tag": "ABX9TyNsqg884VT+vC2qlfpiS18x"
    },
    "kernelspec": {
      "name": "python3",
      "display_name": "Python 3"
    },
    "language_info": {
      "name": "python"
    }
  },
  "cells": [
    {
      "cell_type": "code",
      "execution_count": 1,
      "metadata": {
        "colab": {
          "base_uri": "https://localhost:8080/"
        },
        "id": "Nt8zsWEG8TtJ",
        "outputId": "461dc934-a6ad-4783-bea1-ddd1abbd61c4"
      },
      "outputs": [
        {
          "output_type": "execute_result",
          "data": {
            "text/plain": [
              "136654200018624"
            ]
          },
          "metadata": {},
          "execution_count": 1
        }
      ],
      "source": [
        "a = [1, 2, 3]\n",
        "id(a)"
      ]
    },
    {
      "cell_type": "code",
      "source": [
        "a = [1, 2, 3]\n",
        "b = a\n",
        "print(id(a))\n",
        "print(id(b))  # 동일\n",
        "print(a is b)"
      ],
      "metadata": {
        "colab": {
          "base_uri": "https://localhost:8080/"
        },
        "id": "9vTJ0qUd89YA",
        "outputId": "8f4ae7f8-a978-4d26-a87b-e48e7d1488ed"
      },
      "execution_count": 4,
      "outputs": [
        {
          "output_type": "stream",
          "name": "stdout",
          "text": [
            "136653233433984\n",
            "136653233433984\n",
            "True\n"
          ]
        }
      ]
    },
    {
      "cell_type": "code",
      "source": [
        "# 다른 주소를 가리키게 하는 2가지 방법\n",
        "\n",
        "# [:] 이용\n",
        "a = [1, 2, 3]\n",
        "b = a[:]\n",
        "print(id(a))\n",
        "print(id(b))\n",
        "print(a is b)\n",
        "\n",
        "print(\"-\"*30)\n",
        "\n",
        "#copy 모듈 이용\n",
        "from copy import copy\n",
        "a = [1, 2, 3]\n",
        "b = copy(a)\n",
        "print(id(a))\n",
        "print(id(b))\n",
        "print(a is b)\n"
      ],
      "metadata": {
        "colab": {
          "base_uri": "https://localhost:8080/"
        },
        "id": "hpFsWfhr9SKv",
        "outputId": "d27bb87e-b210-41be-bc69-a91def9071e3"
      },
      "execution_count": 7,
      "outputs": [
        {
          "output_type": "stream",
          "name": "stdout",
          "text": [
            "136653229397312\n",
            "136653231077952\n",
            "False\n",
            "------------------------------\n",
            "136653229404992\n",
            "136653230443136\n",
            "False\n"
          ]
        }
      ]
    },
    {
      "cell_type": "code",
      "source": [
        "# 변수를 만드는 여러 가지 방법\n",
        "a, b = ('tuple a', 'tuple b')\n",
        "print(a)\n",
        "\n",
        "(a, b) = 'tuple a', 'tuple b'\n",
        "print(b)\n",
        "\n",
        "[a, b] = ['list a', 'list b']\n",
        "print(a)\n",
        "\n",
        "a = b = 'a equal b'\n",
        "print(b)\n",
        "\n",
        "# 두 값 바꾸기\n",
        "a = 3\n",
        "b = 5\n",
        "a, b = b, a\n",
        "print(\"a: \"+str(a)+\"\\n\"+\"b: \"+str(b))"
      ],
      "metadata": {
        "colab": {
          "base_uri": "https://localhost:8080/"
        },
        "id": "z5FtpsPL9sWZ",
        "outputId": "17d6b268-cdd3-4b66-ac61-aa23e84cc0e8"
      },
      "execution_count": 27,
      "outputs": [
        {
          "output_type": "stream",
          "name": "stdout",
          "text": [
            "tuple a\n",
            "tuple b\n",
            "list a\n",
            "a equal b\n",
            "a: 5\n",
            "b: 3\n"
          ]
        }
      ]
    }
  ]
}
