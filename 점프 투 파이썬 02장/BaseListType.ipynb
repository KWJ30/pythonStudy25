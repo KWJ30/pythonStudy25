{
  "nbformat": 4,
  "nbformat_minor": 0,
  "metadata": {
    "colab": {
      "provenance": [],
      "authorship_tag": "ABX9TyPdQWfi3X07HMIc8fU5GUyc",
      "include_colab_link": true
    },
    "kernelspec": {
      "name": "python3",
      "display_name": "Python 3"
    },
    "language_info": {
      "name": "python"
    }
  },
  "cells": [
    {
      "cell_type": "markdown",
      "metadata": {
        "id": "view-in-github",
        "colab_type": "text"
      },
      "source": [
        "<a href=\"https://colab.research.google.com/github/KWJ30/pythonStudy25/blob/master/BaseListType.ipynb\" target=\"_parent\"><img src=\"https://colab.research.google.com/assets/colab-badge.svg\" alt=\"Open In Colab\"/></a>"
      ]
    },
    {
      "cell_type": "code",
      "execution_count": 8,
      "metadata": {
        "colab": {
          "base_uri": "https://localhost:8080/"
        },
        "id": "lzO3thXrPyyM",
        "outputId": "3cd5afdd-cd9b-4fae-c929-85ef29e4b5d2"
      },
      "outputs": [
        {
          "output_type": "stream",
          "name": "stdout",
          "text": [
            "['a', 'b', 'c']\n",
            "b\n",
            "Life\n"
          ]
        }
      ],
      "source": [
        "# 다중 리스트\n",
        "a = [1, 2, 3, ['a', 'b', 'c']]\n",
        "print(a[3])\n",
        "print(a[3][1])\n",
        "\n",
        "a = [1, 2, ['a', 'b', ['Life', 'is']]]\n",
        "print(a[2][2][0])"
      ]
    },
    {
      "cell_type": "code",
      "source": [
        "# 리스트의 슬라이싱\n",
        "a = [1, 2, 3, 4, 5]\n",
        "print(a[0:2])\n",
        "\n",
        "a = [1, 2, 3, ['a', 'b', 'c'], 4, 5]\n",
        "print(a[2:5])\n",
        "print(a[3][:2])"
      ],
      "metadata": {
        "colab": {
          "base_uri": "https://localhost:8080/"
        },
        "id": "EI_tIL73RQT_",
        "outputId": "f11a5c6e-e230-4aab-ab7b-a98c210e458d"
      },
      "execution_count": 10,
      "outputs": [
        {
          "output_type": "stream",
          "name": "stdout",
          "text": [
            "[1, 2]\n",
            "[3, ['a', 'b', 'c'], 4]\n",
            "['a', 'b']\n"
          ]
        }
      ]
    },
    {
      "cell_type": "code",
      "source": [
        "# 리스트 연산\n",
        "a = [1, 2, 3]\n",
        "b = [4, 5, 6]\n",
        "print(a + b)\n",
        "print(a * 3)\n",
        "print(len(a))"
      ],
      "metadata": {
        "colab": {
          "base_uri": "https://localhost:8080/"
        },
        "id": "-sy0GFsvRto_",
        "outputId": "d5ab6ebc-916f-4f60-e25b-6aa39593191c"
      },
      "execution_count": 12,
      "outputs": [
        {
          "output_type": "stream",
          "name": "stdout",
          "text": [
            "[1, 2, 3, 4, 5, 6]\n",
            "[1, 2, 3, 1, 2, 3, 1, 2, 3]\n",
            "3\n"
          ]
        }
      ]
    },
    {
      "cell_type": "code",
      "source": [
        "# a[2] + \"hi\"  에러\n",
        "str(a[2]) + \"hi\""
      ],
      "metadata": {
        "colab": {
          "base_uri": "https://localhost:8080/",
          "height": 35
        },
        "id": "3O5FHYNFSNX_",
        "outputId": "e1e5e932-32d2-4348-d26d-c2438ec63a2c"
      },
      "execution_count": 13,
      "outputs": [
        {
          "output_type": "execute_result",
          "data": {
            "text/plain": [
              "'3hi'"
            ],
            "application/vnd.google.colaboratory.intrinsic+json": {
              "type": "string"
            }
          },
          "metadata": {},
          "execution_count": 13
        }
      ]
    },
    {
      "cell_type": "code",
      "source": [
        "# 리스트의 수정과 삭제\n",
        "a = [1, 2, 3]\n",
        "a[2] = 4\n",
        "print(a)\n",
        "del a[1]\n",
        "print(a)\n",
        "\n",
        "a = [1, 2, 3, 4, 5]\n",
        "del a[2:]\n",
        "print(a)"
      ],
      "metadata": {
        "colab": {
          "base_uri": "https://localhost:8080/"
        },
        "id": "r9q-CHO5SU7S",
        "outputId": "6c06d826-ac86-4a2e-bd67-a153d8491db0"
      },
      "execution_count": 16,
      "outputs": [
        {
          "output_type": "stream",
          "name": "stdout",
          "text": [
            "[1, 2, 4]\n",
            "[1, 4]\n",
            "[1, 2]\n"
          ]
        }
      ]
    },
    {
      "cell_type": "code",
      "source": [
        "# 리스트에 요소 추가하기 - append\n",
        "a = [1, 2, 3]\n",
        "a.append(4)\n",
        "print(a)\n",
        "a.append([5, 6])\n",
        "print(a)"
      ],
      "metadata": {
        "colab": {
          "base_uri": "https://localhost:8080/"
        },
        "id": "DbXfrrvRQefZ",
        "outputId": "4728b109-4855-4637-b055-8beffc3033a2"
      },
      "execution_count": 18,
      "outputs": [
        {
          "output_type": "stream",
          "name": "stdout",
          "text": [
            "[1, 2, 3, 4]\n",
            "[1, 2, 3, 4, [5, 6]]\n"
          ]
        }
      ]
    },
    {
      "cell_type": "code",
      "source": [
        "# 리스트 정렬 - sort\n",
        "a = [1, 4, 3, 2]\n",
        "a.sort()\n",
        "print(a)\n",
        "\n",
        "# 문자 역시 알파벳 순서로 정렬할 수 있다.\n",
        "a = ['a', 'c', 'b']\n",
        "a.sort()\n",
        "print(a)"
      ],
      "metadata": {
        "colab": {
          "base_uri": "https://localhost:8080/"
        },
        "id": "gpaiSugrTLqJ",
        "outputId": "b6b9669d-4796-4ef5-b913-c3c1b9319bbc"
      },
      "execution_count": 19,
      "outputs": [
        {
          "output_type": "stream",
          "name": "stdout",
          "text": [
            "[1, 2, 3, 4]\n",
            "['a', 'b', 'c']\n"
          ]
        }
      ]
    },
    {
      "cell_type": "code",
      "source": [
        "# 인덱스 반환 - index\n",
        "a = [1, 2, 3]\n",
        "print(a.index(3))\n",
        "# print(a.index(4)) 없는 값은 에러"
      ],
      "metadata": {
        "colab": {
          "base_uri": "https://localhost:8080/"
        },
        "id": "t1OzAoTRTklw",
        "outputId": "8097b785-48fd-4198-b726-90ab84d79e63"
      },
      "execution_count": 23,
      "outputs": [
        {
          "output_type": "stream",
          "name": "stdout",
          "text": [
            "2\n"
          ]
        }
      ]
    },
    {
      "cell_type": "code",
      "source": [
        "# 리스트에 요소 삽입 - insert\n",
        "# insert(a, b)는 리스트의 a번째 위치에 b를 삽입하는 함수\n",
        "a = [1, 2, 3]\n",
        "a.insert(0, 4)\n",
        "print(a)\n",
        "a.insert(3, 5)\n",
        "print(a)"
      ],
      "metadata": {
        "colab": {
          "base_uri": "https://localhost:8080/"
        },
        "id": "NrELJMs0T38H",
        "outputId": "edc1b110-c115-497e-dc1f-c594ada53539"
      },
      "execution_count": 25,
      "outputs": [
        {
          "output_type": "stream",
          "name": "stdout",
          "text": [
            "[4, 1, 2, 3]\n",
            "[4, 1, 2, 5, 3]\n"
          ]
        }
      ]
    },
    {
      "cell_type": "code",
      "source": [
        "# 리스트 요소 제거 - remove\n",
        "# remove(x)는 리스트에서 첫 번째로 나오는 x를 삭제하는 함수\n",
        "a = [1, 2, 3, 1, 2, 3]\n",
        "a.remove(3)  # 첫 번째 3만 제거\n",
        "print(a)"
      ],
      "metadata": {
        "colab": {
          "base_uri": "https://localhost:8080/"
        },
        "id": "UN9A1IBgT4cQ",
        "outputId": "7d14090c-c2ad-467e-98ac-2a791304da28"
      },
      "execution_count": 26,
      "outputs": [
        {
          "output_type": "stream",
          "name": "stdout",
          "text": [
            "[1, 2, 1, 2, 3]\n"
          ]
        }
      ]
    },
    {
      "cell_type": "code",
      "source": [
        "# 리스트 요소 끄집어 내기 - pop\n",
        "# pop()은 리스트의 맨 마지막 요소를 돌려주고 그 요소는 삭제\n",
        "a = [1, 2, 3]\n",
        "print(a.pop())\n",
        "print(a)\n",
        "\n",
        "# pop(x)는 리스트의 x번째 요소를 리턴하고 그 요소는 삭제\n",
        "a = [1, 2, 3]\n",
        "print(a.pop(1))\n",
        "print(a)\n"
      ],
      "metadata": {
        "colab": {
          "base_uri": "https://localhost:8080/"
        },
        "id": "fMapxbmGUo8B",
        "outputId": "6d95ad0a-42f2-40ca-aad1-0e38a514b7a5"
      },
      "execution_count": 28,
      "outputs": [
        {
          "output_type": "stream",
          "name": "stdout",
          "text": [
            "3\n",
            "[1, 2]\n",
            "2\n",
            "[1, 3]\n"
          ]
        }
      ]
    },
    {
      "cell_type": "code",
      "source": [
        "# 리스트에 포함된 요소 x의 개수 세기 - count\n",
        "# count(x)는 리스트 안에 x가 몇 개 있는지 조사하여 그 개수를 리턴하는 함수\n",
        "a = [1, 2, 3, 1]\n",
        "a.count(1)"
      ],
      "metadata": {
        "colab": {
          "base_uri": "https://localhost:8080/"
        },
        "id": "n-Vr6OmMU7eI",
        "outputId": "86854e65-22ca-46d9-e2bb-084452352aee"
      },
      "execution_count": 29,
      "outputs": [
        {
          "output_type": "execute_result",
          "data": {
            "text/plain": [
              "2"
            ]
          },
          "metadata": {},
          "execution_count": 29
        }
      ]
    },
    {
      "cell_type": "code",
      "source": [
        "# 리스트 확장 - extend\n",
        "# extend(x)에서 x에는 리스트만 올 수 있으며 원래의 a 리스트에 x 리스트를 더하게 된다\n",
        "a = [1, 2, 3]\n",
        "a.extend([4, 5])\n",
        "# a += [4, 5]  동일한 표현식\n",
        "print(a)\n",
        "b = [6, 7]\n",
        "a.extend(b)\n",
        "print(a)"
      ],
      "metadata": {
        "colab": {
          "base_uri": "https://localhost:8080/"
        },
        "id": "T0-9JDX9VCm4",
        "outputId": "c9132d41-605a-4a2c-c544-964497b8cb36"
      },
      "execution_count": 33,
      "outputs": [
        {
          "output_type": "stream",
          "name": "stdout",
          "text": [
            "[1, 2, 3, 4, 5]\n",
            "[1, 2, 3, 4, 5, 6, 7]\n"
          ]
        }
      ]
    }
  ]
}
