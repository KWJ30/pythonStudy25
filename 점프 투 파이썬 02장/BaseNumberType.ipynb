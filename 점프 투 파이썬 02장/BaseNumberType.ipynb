{
  "nbformat": 4,
  "nbformat_minor": 0,
  "metadata": {
    "colab": {
      "provenance": [],
      "authorship_tag": "ABX9TyMOERnk/Z8S/iOATc2vmzIE"
    },
    "kernelspec": {
      "name": "python3",
      "display_name": "Python 3"
    },
    "language_info": {
      "name": "python"
    }
  },
  "cells": [
    {
      "cell_type": "code",
      "execution_count": null,
      "metadata": {
        "colab": {
          "base_uri": "https://localhost:8080/"
        },
        "id": "_4YgB4Av6ix2",
        "outputId": "b4f3f0fc-5985-4bc8-e762-748a3d6f77d2"
      },
      "outputs": [
        {
          "output_type": "execute_result",
          "data": {
            "text/plain": [
              "2"
            ]
          },
          "metadata": {},
          "execution_count": 13
        }
      ],
      "source": [
        "# 주석\n",
        "# 1+2+3+4+5\n",
        "1+1"
      ]
    },
    {
      "cell_type": "code",
      "source": [
        "# 숫자 자료형 (number)\n",
        "# 정수형(integer), 실수형(float), 8진수, 16진수\n",
        "\n",
        "a=1    # private int a = 1; (JAVA)\n",
        "b=-1\n",
        "c=0\n",
        "\n",
        "print(a)\n",
        "print(b)\n",
        "print(c)"
      ],
      "metadata": {
        "colab": {
          "base_uri": "https://localhost:8080/"
        },
        "id": "Ht1flV7i8K3I",
        "outputId": "988df007-3fdc-485a-c8f7-31167d058a00"
      },
      "execution_count": null,
      "outputs": [
        {
          "output_type": "stream",
          "name": "stdout",
          "text": [
            "1\n",
            "-1\n",
            "0\n"
          ]
        }
      ]
    },
    {
      "cell_type": "code",
      "source": [
        "# 실수형(floating-point)\n",
        "\n",
        "d=1.23456789\n",
        "e=2.34567789\n",
        "\n",
        "print(d+e)\n",
        "\n",
        "# 부동소수점 오차"
      ],
      "metadata": {
        "colab": {
          "base_uri": "https://localhost:8080/"
        },
        "id": "djK50cAR9CoX",
        "outputId": "f3116099-86d2-4a4d-c44e-b5b671991659"
      },
      "execution_count": null,
      "outputs": [
        {
          "output_type": "execute_result",
          "data": {
            "text/plain": [
              "3.5802457800000003"
            ]
          },
          "metadata": {},
          "execution_count": 17
        }
      ]
    },
    {
      "cell_type": "code",
      "source": [
        "# 지수\n",
        "\n",
        "f = 1.23E3     # 1.23 * 10^3\n",
        "g = 1.23e-3\n",
        "\n",
        "print(f)\n",
        "print(g)"
      ],
      "metadata": {
        "colab": {
          "base_uri": "https://localhost:8080/"
        },
        "id": "NJCvp-Hd9gL4",
        "outputId": "d0d497ca-c9e0-482c-e370-999859521a6f"
      },
      "execution_count": null,
      "outputs": [
        {
          "output_type": "stream",
          "name": "stdout",
          "text": [
            "1230.0\n",
            "0.00123\n"
          ]
        }
      ]
    },
    {
      "cell_type": "code",
      "source": [
        "# 8진수 16진수 (0~9 및 A~F)\n",
        "\n",
        "h = 0o77  # 8진수 77\n",
        "print(h)\n",
        "\n",
        "i = 0xAA  # 16진수 aa\n",
        "print(i)"
      ],
      "metadata": {
        "colab": {
          "base_uri": "https://localhost:8080/"
        },
        "id": "rWnYZVE0-WeY",
        "outputId": "ae9f8870-7b51-47c5-c611-8e70790d8186"
      },
      "execution_count": null,
      "outputs": [
        {
          "output_type": "stream",
          "name": "stdout",
          "text": [
            "63\n",
            "170\n"
          ]
        }
      ]
    },
    {
      "cell_type": "code",
      "source": [
        "# 오칙연산 (+, -, *, /, %)\n",
        "\n",
        "a = 3\n",
        "b = 4\n",
        "c = a + b  # 결과값 재사용 가능하게 c 에 저장\n",
        "print(c)"
      ],
      "metadata": {
        "colab": {
          "base_uri": "https://localhost:8080/"
        },
        "id": "K-w11WW5AmX_",
        "outputId": "f623a269-302d-49af-b607-f219816f1fc3"
      },
      "execution_count": null,
      "outputs": [
        {
          "output_type": "stream",
          "name": "stdout",
          "text": [
            "7\n"
          ]
        }
      ]
    },
    {
      "cell_type": "code",
      "source": [
        "d = a - b\n",
        "print(d)\n",
        "e = 7 % 3\n",
        "print(e)\n",
        "f = int(7/3)\n",
        "print(f)\n",
        "h = (7-e)/3\n",
        "print(h)\n",
        "i = 7//3  # 나눈 몫을 구하는 연산자\n",
        "print(i)"
      ],
      "metadata": {
        "colab": {
          "base_uri": "https://localhost:8080/"
        },
        "id": "SjcrHbIaGHZo",
        "outputId": "b14074c2-deed-4993-9ae4-f07563232669"
      },
      "execution_count": null,
      "outputs": [
        {
          "output_type": "stream",
          "name": "stdout",
          "text": [
            "-1\n",
            "1\n",
            "2\n",
            "2.0\n",
            "2\n"
          ]
        }
      ]
    },
    {
      "cell_type": "code",
      "source": [
        "3 ** 4   # 거듭제곱"
      ],
      "metadata": {
        "colab": {
          "base_uri": "https://localhost:8080/"
        },
        "id": "XVQByrSoHSFH",
        "outputId": "78e03518-1940-4dcd-85a8-ada0b7d5412b"
      },
      "execution_count": null,
      "outputs": [
        {
          "output_type": "execute_result",
          "data": {
            "text/plain": [
              "81"
            ]
          },
          "metadata": {},
          "execution_count": 40
        }
      ]
    },
    {
      "cell_type": "code",
      "source": [
        "# 복합연산자\n",
        "a = 1   # a에 1을 할당\n",
        "a += a  # a = a + a, 즉 a는 2가 된다.\n",
        "b = 3   # b에 3을 할당\n",
        "b -= a  # b = b - a, 즉 b는 3 - 2 = 1이 된다.\n",
        "print(a)  # a의 값 출력, 2\n",
        "print(b)  # b의 값 출력, 1"
      ],
      "metadata": {
        "colab": {
          "base_uri": "https://localhost:8080/"
        },
        "id": "Ub6qU2ojHa3X",
        "outputId": "d43e58ac-9f25-412b-dca7-b568b9546286"
      },
      "execution_count": null,
      "outputs": [
        {
          "output_type": "stream",
          "name": "stdout",
          "text": [
            "2\n",
            "1\n"
          ]
        }
      ]
    },
    {
      "cell_type": "code",
      "source": [
        "a = 10\n",
        "a *= 2  # a = a * 2, 즉 a는 20이 된다.\n",
        "\n",
        "b = 20\n",
        "b /= 4  # b = b / 4, 즉 b는 5.0이 된다. (나눗셈은 항상 실수로 결과가 나온다)\n",
        "\n",
        "c = 7\n",
        "c %= 3  # c = c % 3, 즉 c는 1이 된다. (나머지 연산)\n",
        "\n",
        "d = 10\n",
        "d //= 3  # d = d // 3, 즉 d는 3이 된다. (몫 연산)\n",
        "\n",
        "print(a)  # 출력: 20\n",
        "print(b)  # 출력: 5.0\n",
        "print(c)  # 출력: 1\n",
        "print(d)  # 출력: 3\n"
      ],
      "metadata": {
        "colab": {
          "base_uri": "https://localhost:8080/"
        },
        "id": "s_z-vj3_I97v",
        "outputId": "4da90ce8-8b88-4864-9db6-445b3df0b29d"
      },
      "execution_count": null,
      "outputs": [
        {
          "output_type": "stream",
          "name": "stdout",
          "text": [
            "20\n",
            "5.0\n",
            "1\n",
            "3\n"
          ]
        }
      ]
    }
  ]
}
