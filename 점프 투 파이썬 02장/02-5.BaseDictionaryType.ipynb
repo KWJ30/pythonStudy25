{
  "nbformat": 4,
  "nbformat_minor": 0,
  "metadata": {
    "colab": {
      "provenance": [],
      "authorship_tag": "ABX9TyMGAqUER3CJN5ZHCyuwMthi"
    },
    "kernelspec": {
      "name": "python3",
      "display_name": "Python 3"
    },
    "language_info": {
      "name": "python"
    }
  },
  "cells": [
    {
      "cell_type": "code",
      "execution_count": 1,
      "metadata": {
        "colab": {
          "base_uri": "https://localhost:8080/"
        },
        "id": "9FEeeoxPg7xe",
        "outputId": "68b30e01-03f1-4311-cac3-c60b36923db0"
      },
      "outputs": [
        {
          "output_type": "stream",
          "name": "stdout",
          "text": [
            "{'name': 'pey', 'phone': '010-9999-1234', 'birth': '1118'}\n",
            "{'a': [1, 2, 3]}\n"
          ]
        }
      ],
      "source": [
        "# Key와 Value의 쌍 여러 개\n",
        "dic = {'name': 'pey', 'phone': '010-9999-1234', 'birth': '1118'}\n",
        "print(dic)\n",
        "# Value에 리스트도 넣을 수 있다.\n",
        "a = {'a': [1, 2, 3]}\n",
        "print(a)"
      ]
    },
    {
      "cell_type": "code",
      "source": [
        "# 추가\n",
        "a = {1: 'a'}\n",
        "a[2] = 'b'\n",
        "print(a)\n",
        "a['name'] = 'pey'\n",
        "print(a)\n",
        "print(\"-\"*30)\n",
        "# 삭제\n",
        "del a[1]  #  del a[key]\n",
        "print(a)"
      ],
      "metadata": {
        "colab": {
          "base_uri": "https://localhost:8080/"
        },
        "id": "zXotW_cTh7p5",
        "outputId": "faf9cfb9-15ad-4084-b62a-7cf9a75cfc4b"
      },
      "execution_count": 4,
      "outputs": [
        {
          "output_type": "stream",
          "name": "stdout",
          "text": [
            "{1: 'a', 2: 'b'}\n",
            "{1: 'a', 2: 'b', 'name': 'pey'}\n",
            "------------------------------\n",
            "{2: 'b', 'name': 'pey'}\n"
          ]
        }
      ]
    },
    {
      "cell_type": "code",
      "source": [
        "# 중복키 주의\n",
        "a = {1:'a', 1:'b'}\n",
        "print(a)\n",
        "\n",
        "# Key에 리스트는 쓸 수 없다\n",
        "try:\n",
        "    a = {[1,2] : 'hi'}\n",
        "    print(a)\n",
        "except Exception as e:\n",
        "    print(f\"오류 발생: {e}\")"
      ],
      "metadata": {
        "colab": {
          "base_uri": "https://localhost:8080/"
        },
        "id": "LXKeITpaidDJ",
        "outputId": "dfeefd46-cb04-4fe1-db6d-482da77b66eb"
      },
      "execution_count": 8,
      "outputs": [
        {
          "output_type": "stream",
          "name": "stdout",
          "text": [
            "{1: 'b'}\n",
            "오류 발생: unhashable type: 'list'\n"
          ]
        }
      ]
    },
    {
      "cell_type": "code",
      "source": [
        "# Key 리스트 만들기 - keys\n",
        "a = {'name': 'pey', 'phone': '010-9999-1234', 'birth': '1118'}\n",
        "print(a.keys())\n",
        "\n",
        "# 파이썬 3.0 이후 dict_keys 객체를 리턴하도록 변경\n",
        "# 리스트가 필요한 경우에는 list(a.keys())를 사용\n",
        "\n",
        "for k in a.keys():\n",
        "  print(k)\n",
        "\n",
        "print(list(a.keys()))"
      ],
      "metadata": {
        "colab": {
          "base_uri": "https://localhost:8080/"
        },
        "id": "yJLPOutai25h",
        "outputId": "4bcf27d9-3c1d-4ded-d905-eb0d61621007"
      },
      "execution_count": 12,
      "outputs": [
        {
          "output_type": "stream",
          "name": "stdout",
          "text": [
            "dict_keys(['name', 'phone', 'birth'])\n",
            "name\n",
            "phone\n",
            "birth\n",
            "['name', 'phone', 'birth']\n"
          ]
        }
      ]
    },
    {
      "cell_type": "code",
      "source": [
        "# Value 리스트 만들기 - values\n",
        "print(a.values())\n",
        "\n",
        "# Key, Value 쌍 얻기 - items\n",
        "print(a.items())"
      ],
      "metadata": {
        "colab": {
          "base_uri": "https://localhost:8080/"
        },
        "id": "zp8JTonvjXMB",
        "outputId": "b23ceed4-60f4-4d5d-fca2-981003e44cdb"
      },
      "execution_count": 14,
      "outputs": [
        {
          "output_type": "stream",
          "name": "stdout",
          "text": [
            "dict_values(['pey', '010-9999-1234', '1118'])\n",
            "['pey', '010-9999-1234', '1118']\n",
            "dict_items([('name', 'pey'), ('phone', '010-9999-1234'), ('birth', '1118')])\n"
          ]
        }
      ]
    },
    {
      "cell_type": "code",
      "source": [
        "# Key: Value 쌍 모두 지우기 - clear\n",
        "a.clear()\n",
        "print(a)"
      ],
      "metadata": {
        "colab": {
          "base_uri": "https://localhost:8080/"
        },
        "id": "vvEOTIMejpHQ",
        "outputId": "41724fa1-1dad-434c-ae7f-ccb38a465099"
      },
      "execution_count": 15,
      "outputs": [
        {
          "output_type": "stream",
          "name": "stdout",
          "text": [
            "{}\n"
          ]
        }
      ]
    },
    {
      "cell_type": "code",
      "source": [
        "# Key로 Value 얻기 - get\n",
        "a = {'name': 'pey', 'phone': '010-9999-1234', 'birth': '1118'}\n",
        "print(a.get('name'))\n",
        "print(a.get('phone'))\n",
        "\n",
        "# a.get('nokey') 방식은 None을 리턴\n",
        "print(a.get('nokey'))\n",
        "\n",
        "# default 값도 설정가능\n",
        "print(a.get('nokey', 'foo'))"
      ],
      "metadata": {
        "colab": {
          "base_uri": "https://localhost:8080/"
        },
        "id": "qQdhsDZoj1L4",
        "outputId": "b7a5831f-1406-47e2-9285-33b907d01ea5"
      },
      "execution_count": 25,
      "outputs": [
        {
          "output_type": "stream",
          "name": "stdout",
          "text": [
            "pey\n",
            "010-9999-1234\n",
            "None\n",
            "foo\n"
          ]
        }
      ]
    },
    {
      "cell_type": "code",
      "source": [
        "# 해당 Key가 딕셔너리 안에 있는지 조사하기 - in\n",
        "a = {'name': 'pey', 'phone': '010-9999-1234', 'birth': '1118'}\n",
        "print('name' in a)\n",
        "print('email' in a)"
      ],
      "metadata": {
        "colab": {
          "base_uri": "https://localhost:8080/"
        },
        "id": "e0Q5EYH4kSOJ",
        "outputId": "a975a489-4752-4fd6-ed69-abcabd3f4ae6"
      },
      "execution_count": 26,
      "outputs": [
        {
          "output_type": "stream",
          "name": "stdout",
          "text": [
            "True\n",
            "False\n"
          ]
        }
      ]
    }
  ]
}
