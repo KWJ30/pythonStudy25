{
  "nbformat": 4,
  "nbformat_minor": 0,
  "metadata": {
    "colab": {
      "provenance": [],
      "authorship_tag": "ABX9TyOYbc7H/cQVmRmyjAYZOYwX"
    },
    "kernelspec": {
      "name": "python3",
      "display_name": "Python 3"
    },
    "language_info": {
      "name": "python"
    }
  },
  "cells": [
    {
      "cell_type": "code",
      "execution_count": null,
      "metadata": {
        "colab": {
          "base_uri": "https://localhost:8080/"
        },
        "id": "M48Tmo8xE8kJ",
        "outputId": "3ad9566f-bce6-4b46-e0c3-56a67b585e01"
      },
      "outputs": [
        {
          "output_type": "stream",
          "name": "stdout",
          "text": [
            "1. 이름/성적 입력\n",
            "2. 성적 확인\n",
            "3. 성적 수정\n",
            "4. 성적 삭제(초기화)\n",
            "5. 이름 수정/삭제\n",
            "6. 프로그램 종료\n",
            "\n",
            "Enter number(1~5): \n",
            "번호 입력: 1\n",
            "이름 및 성적 입력\n",
            "\n",
            "이름: ㄱ\n",
            "국어: 1\n",
            "영어: 2\n",
            "수학: 3\n",
            "파이썬: 4\n",
            "입력되었습니다.\n",
            "\n",
            "1. 이름/성적 입력\n",
            "2. 성적 확인\n",
            "3. 성적 수정\n",
            "4. 성적 삭제(초기화)\n",
            "5. 이름 수정/삭제\n",
            "6. 프로그램 종료\n",
            "\n",
            "Enter number(1~5): \n",
            "번호 입력: 1\n",
            "이름 및 성적 입력\n",
            "\n",
            "이름: ㄱ\n",
            "국어: 5\n",
            "영어: 6\n",
            "수학: 7\n",
            "파이썬: 8\n",
            "입력되었습니다.\n",
            "\n",
            "1. 이름/성적 입력\n",
            "2. 성적 확인\n",
            "3. 성적 수정\n",
            "4. 성적 삭제(초기화)\n",
            "5. 이름 수정/삭제\n",
            "6. 프로그램 종료\n",
            "\n",
            "Enter number(1~5): \n",
            "번호 입력: 2\n",
            "성적 확인\n",
            "\n",
            "이름 입력: ㄱ\n",
            "국어: 1  영어: 2  수학: 3  파이썬: 4  \n",
            "총점: 10  평균: 2.50\n",
            "\n",
            "1. 이름/성적 입력\n",
            "2. 성적 확인\n",
            "3. 성적 수정\n",
            "4. 성적 삭제(초기화)\n",
            "5. 이름 수정/삭제\n",
            "6. 프로그램 종료\n",
            "\n",
            "Enter number(1~5): \n"
          ]
        }
      ],
      "source": [
        "# 여러명의 데이터를 리스트로 입력받아 처리\n",
        "# 성적에 대한 CRUD\n",
        "# 학생에 대한 CRUD\n",
        "# 통계에 대한 CRUD 등을 작성한다\n",
        "\n",
        "name, kor, eng, math, py = [],[],[],[],[]\n",
        "subjects = [kor, eng, math, py]\n",
        "subject_names = [\"국어\", \"영어\", \"수학\", \"파이썬\"]\n",
        "\n",
        "run = True\n",
        "confirm = \"\"\n",
        "prompt = \"\"\"1. 이름/성적 입력\n",
        "2. 성적 확인\n",
        "3. 성적 수정\n",
        "4. 성적 삭제(초기화)\n",
        "5. 이름 수정/삭제\n",
        "6. 프로그램 종료\n",
        "\n",
        "Enter number(1~5): \"\"\"\n",
        "\n",
        "while run:\n",
        "    print(prompt)\n",
        "    select = int(input(\"번호 입력: \"))\n",
        "\n",
        "    if select == 1:\n",
        "        print(\"이름 및 성적 입력\\n\")\n",
        "        name.append(input(\"이름: \"))\n",
        "        for i, subject in enumerate(subjects):\n",
        "            score = int(input(f\"{subject_names[i]}: \"))\n",
        "            subject.append(score)\n",
        "        print(\"입력되었습니다.\\n\")\n",
        "\n",
        "    elif select == 2:\n",
        "        print(\"성적 확인\\n\")\n",
        "        search_name = input(\"이름 입력: \")\n",
        "        if search_name in name:\n",
        "            index = name.index(search_name)\n",
        "            total = 0  # 총점 초기화\n",
        "            for i, subject in enumerate(subjects):\n",
        "                score = subject[index]\n",
        "                total += score  # 총점 누적\n",
        "                print(f\"{subject_names[i]}: {score}\", end=\"  \")  # 가로로 출력되도록 end=\" \" 추가\n",
        "            avg = total / len(subjects)  # 평균 계산\n",
        "            print(f\"\\n총점: {total}  평균: {avg:.2f}\\n\")  # 총점과 평균 출력\n",
        "        else:\n",
        "            print(\"해당이름이 존재하지 않습니다.\\n\")\n",
        "\n",
        "    elif select == 3:\n",
        "        print(\"성적 수정\\n\")\n",
        "        search_name = input(\"이름 입력: \")\n",
        "        if search_name in name:\n",
        "            index = name.index(search_name)\n",
        "            for i, subject in enumerate(subjects):\n",
        "                subject[index] = int(input(f\"{subject_names[i]}: \"))\n",
        "            print(\"수정이 완료되었습니다.\\n\")\n",
        "        else:\n",
        "            print(\"해당이름이 존재하지 않습니다.\\n\")\n",
        "\n",
        "    elif select == 4:\n",
        "        print(\"성적 삭제(초기화)\\n\")\n",
        "        while confirm not in [\"y\", \"n\"]:\n",
        "            confirm = input(\"정말 삭제하시겠습니까? (y/n) \")\n",
        "            if confirm == 'y':\n",
        "                search_name = input(\"이름 입력: \")\n",
        "                if search_name in name:\n",
        "                    index = name.index(search_name)\n",
        "                    for i, subject in enumerate(subjects):\n",
        "                        subject[index]=0\n",
        "                    print(\"삭제되었습니다.\\n\")\n",
        "                else:\n",
        "                    print(\"해당이름이 존재하지 않습니다.\\n\")\n",
        "\n",
        "            elif confirm == 'n':\n",
        "                print(\"삭제가 취소되었습니다.\\n\")\n",
        "                confirm = \"\"\n",
        "                break\n",
        "            else:\n",
        "                print(\"잘못된 입력입니다.\\n\")\n",
        "                continue\n",
        "\n",
        "    elif select == 5:\n",
        "        print(\"이름 수정/삭제\\n\")\n",
        "        name_select = int(input(\"1. 수정 2. 삭제: \"))\n",
        "        if name_select == 1:\n",
        "            print(\"이름 수정\\n\")\n",
        "            search_name = input(\"이름 입력: \")\n",
        "            if search_name in name:\n",
        "                index = name.index(search_name)\n",
        "                name[index] = input(\"새로운 이름 입력: \")\n",
        "                print(\"이름이 수정되었습니다.\\n\")\n",
        "            else:\n",
        "                print(\"해당이름이 존재하지 않습니다.\\n\")\n",
        "        elif name_select == 2:\n",
        "            print(\"이름 삭제\\n\")\n",
        "            while confirm not in [\"y\", \"n\"]:\n",
        "                confirm = input(\"정말 삭제하시겠습니까? (y/n) \")\n",
        "                if confirm == 'y':\n",
        "                    search_name = input(\"이름 입력: \")\n",
        "                    if search_name in name:\n",
        "                        index = name.index(search_name)\n",
        "                        del name[index]\n",
        "                        for subject in subjects:\n",
        "                            del subject[index]\n",
        "                        print(\"삭제되었습니다.\\n\")\n",
        "                    else:\n",
        "                        print(\"해당이름이 존재하지 않습니다.\\n\")\n",
        "\n",
        "                elif confirm == 'n':\n",
        "                    print(\"삭제가 취소되었습니다.\\n\")\n",
        "                    confirm = \"\"\n",
        "                    break\n",
        "\n",
        "                else:\n",
        "                    print(\"잘못된 입력입니다.\\n\")\n",
        "                    continue\n",
        "\n",
        "    elif select == 6:\n",
        "        print(\"프로그램 종료\")\n",
        "        run = False"
      ]
    },
    {
      "cell_type": "code",
      "source": [],
      "metadata": {
        "id": "SR6430zqcjIG"
      },
      "execution_count": null,
      "outputs": []
    },
    {
      "cell_type": "code",
      "source": [
        "name, kor, eng, math, py = [], [], [], [], []\n",
        "subjects = [kor, eng, math, py]\n",
        "subject_names = [\"국어\", \"영어\", \"수학\", \"파이썬\"]"
      ],
      "metadata": {
        "id": "gQbevD34P1QU"
      },
      "execution_count": null,
      "outputs": []
    },
    {
      "cell_type": "code",
      "source": [
        "name, kor, eng, math, py = [], [], [], [], []\n",
        "subjects = [kor, eng, math, py]\n",
        "subject_names = [\"국어\", \"영어\", \"수학\", \"파이썬\"]\n",
        "\n",
        "# 성적 입력\n",
        "for i, subject in enumerate(subjects):\n",
        "    score = int(input(f\"{subject_names[i]}: \"))\n",
        "    subject.append(score)\n",
        "\n",
        "# 성적 출력\n",
        "print(\" \".join(f\"{subj}: {scores[0]}\" for subj, scores in zip(subject_names, subjects)))\n"
      ],
      "metadata": {
        "colab": {
          "base_uri": "https://localhost:8080/"
        },
        "id": "jQbFvnZxJ79k",
        "outputId": "8003d3a7-63a6-4589-926f-7f7a2a1f70ee"
      },
      "execution_count": 25,
      "outputs": [
        {
          "output_type": "stream",
          "name": "stdout",
          "text": [
            "국어: 1\n",
            "영어: 2\n",
            "수학: 3\n",
            "파이썬: 4\n",
            "국어: 1 영어: 2 수학: 3 파이썬: 4\n"
          ]
        }
      ]
    },
    {
      "cell_type": "code",
      "source": [
        "name, kor, eng, math, py = [],[],[],[],[]\n",
        "print(type(name))\n",
        "name.append(input(\"이름: \"))\n",
        "print(type(name))\n",
        "print(name)\n",
        "name.append(input(\"이름: \"))\n",
        "print(name)\n",
        "print(name[0])"
      ],
      "metadata": {
        "colab": {
          "base_uri": "https://localhost:8080/"
        },
        "id": "tcNiyTO3GRRr",
        "outputId": "6f54878b-91c9-4d63-e1a2-5c46fd680fa1"
      },
      "execution_count": 11,
      "outputs": [
        {
          "output_type": "stream",
          "name": "stdout",
          "text": [
            "<class 'list'>\n",
            "이름: 김\n",
            "<class 'list'>\n",
            "['김']\n",
            "이름: 이\n",
            "['김', '이']\n",
            "김\n"
          ]
        }
      ]
    }
  ]
}