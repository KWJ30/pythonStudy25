{
  "nbformat": 4,
  "nbformat_minor": 0,
  "metadata": {
    "colab": {
      "provenance": [],
      "authorship_tag": "ABX9TyN1QAuwQoxoTNvq6Uj+DB6b"
    },
    "kernelspec": {
      "name": "python3",
      "display_name": "Python 3"
    },
    "language_info": {
      "name": "python"
    }
  },
  "cells": [
    {
      "cell_type": "code",
      "source": [
        "# def는 함수나 메서드를 정의하는 문법이다.\n",
        "# 매개변수, 파라미터, 입력값\n",
        "# def 이름 (매개변수1, 매개변수2) :"
      ],
      "metadata": {
        "id": "DMBfXwYeqG3f"
      },
      "execution_count": null,
      "outputs": []
    },
    {
      "cell_type": "code",
      "source": [
        "# 정의를 먼저하고 나중에 호출하여 사용한다.\n",
        "\n",
        "a = 3\n",
        "b = 4\n",
        "c = a + b\n",
        "print(c)"
      ],
      "metadata": {
        "colab": {
          "base_uri": "https://localhost:8080/"
        },
        "id": "Wl9uC5KQsqwu",
        "outputId": "1361d716-7b14-4cbe-faff-cc0c2a2c3cb8"
      },
      "execution_count": 10,
      "outputs": [
        {
          "output_type": "stream",
          "name": "stdout",
          "text": [
            "7\n"
          ]
        }
      ]
    },
    {
      "cell_type": "code",
      "source": [
        "# 위 코드를 함수로 변경한다\n",
        "\n",
        "# 정의\n",
        "def add(a,b):   # add 함수 이름을 만들고 입력은 2개를 받는다.\n",
        "    result = a+b\n",
        "    return result\n",
        "\n",
        "c = add(3,4)\n",
        "print(c)"
      ],
      "metadata": {
        "colab": {
          "base_uri": "https://localhost:8080/"
        },
        "id": "4qpv18eIszCG",
        "outputId": "78a4ed57-7fe6-490e-e033-dd0a61fe9e7d"
      },
      "execution_count": 13,
      "outputs": [
        {
          "output_type": "stream",
          "name": "stdout",
          "text": [
            "7\n"
          ]
        }
      ]
    },
    {
      "cell_type": "code",
      "source": [
        "# 입력값이 없는 함수\n",
        "def say():\n",
        "     return 'Hi'\n",
        "\n",
        "a = say()\n",
        "print(a)"
      ],
      "metadata": {
        "colab": {
          "base_uri": "https://localhost:8080/"
        },
        "id": "XZ-sQ2TxuZoW",
        "outputId": "3e075262-59be-42ab-daf6-2961f00de3aa"
      },
      "execution_count": 14,
      "outputs": [
        {
          "output_type": "stream",
          "name": "stdout",
          "text": [
            "Hi\n"
          ]
        }
      ]
    },
    {
      "cell_type": "code",
      "source": [
        "# 리턴값이 없는 함수\n",
        "def add(a, b):\n",
        "     print(\"%d, %d의 합은 %d입니다.\" % (a, b, a+b))\n",
        "# 리턴값이 없는 함수는 호출해도 리턴되는 값이 없기 때문에 다음과 같이 사용한다.\n",
        "\n",
        "add(3, 4)\n",
        "a = add(3, 4)\n",
        "print(a)"
      ],
      "metadata": {
        "colab": {
          "base_uri": "https://localhost:8080/"
        },
        "id": "bbu-CgN7urUW",
        "outputId": "d193c6bb-d80e-4480-d65d-a4e234529441"
      },
      "execution_count": 21,
      "outputs": [
        {
          "output_type": "stream",
          "name": "stdout",
          "text": [
            "3, 4의 합은 7입니다.\n",
            "3, 4의 합은 7입니다.\n",
            "None\n"
          ]
        }
      ]
    },
    {
      "cell_type": "code",
      "source": [
        "# 입력값도, 리턴값도 없는 함수\n",
        "def say():\n",
        "     print('Hi')\n",
        "\n",
        "a = say()\n",
        "print(a)"
      ],
      "metadata": {
        "colab": {
          "base_uri": "https://localhost:8080/"
        },
        "id": "ieCm2Q3RvMZe",
        "outputId": "88287433-e3d2-4dc9-932e-0ea50cb55d49"
      },
      "execution_count": 22,
      "outputs": [
        {
          "output_type": "stream",
          "name": "stdout",
          "text": [
            "Hi\n",
            "None\n"
          ]
        }
      ]
    },
    {
      "cell_type": "code",
      "source": [
        "# 매개변수를 지정하여 호출하기\n",
        "def sub(a, b):\n",
        "     return a - b\n",
        "\n",
        "# 매개변수를 지정하면 다음과 같이 순서에 상관없이 사용할 수 있다는 장점이 있다.\n",
        "result = sub(b=5, a=3)  # b에 5, a에 3을 전달\n",
        "print(result)"
      ],
      "metadata": {
        "colab": {
          "base_uri": "https://localhost:8080/"
        },
        "id": "KDEvm3_nx6je",
        "outputId": "05c61919-901f-4413-dc3b-26f7baef58d9"
      },
      "execution_count": 23,
      "outputs": [
        {
          "output_type": "stream",
          "name": "stdout",
          "text": [
            "-2\n"
          ]
        }
      ]
    },
    {
      "cell_type": "code",
      "source": [
        "# 여러 개의 입력값을 받는 함수 만들기\n",
        "def add_many(*args):\n",
        "     result = 0\n",
        "     for i in args:\n",
        "         result = result + i   # *args에 입력받은 모든 값을 더한다.\n",
        "     return result\n",
        "\n",
        "result = add_many(1,2,3)\n",
        "print(result)\n",
        "result = add_many(1,2,3,4,5,6,7,8,9,10)\n",
        "print(result)"
      ],
      "metadata": {
        "colab": {
          "base_uri": "https://localhost:8080/"
        },
        "id": "nGQU-NDLyD3e",
        "outputId": "71deb07f-47c5-4c00-fddb-491edd7964bb"
      },
      "execution_count": 25,
      "outputs": [
        {
          "output_type": "stream",
          "name": "stdout",
          "text": [
            "6\n",
            "55\n"
          ]
        }
      ]
    },
    {
      "cell_type": "code",
      "source": [
        "def add_mul(choice, *args):\n",
        "     if choice == \"add\":   # 매개변수 choice에 \"add\"를 입력받았을 때\n",
        "         result = 0\n",
        "         for i in args:\n",
        "             result = result + i\n",
        "     elif choice == \"mul\":   # 매개변수 choice에 \"mul\"을 입력받았을 때\n",
        "         result = 1\n",
        "         for i in args:\n",
        "             result = result * i\n",
        "     return result\n",
        "\n",
        "result = add_mul('add', 1,2,3,4,5)\n",
        "print(result)\n",
        "result = add_mul('mul', 1,2,3,4,5)\n",
        "print(result)"
      ],
      "metadata": {
        "colab": {
          "base_uri": "https://localhost:8080/"
        },
        "id": "ov5PgIr0yT1-",
        "outputId": "eb4fd21e-7db0-42fe-cc48-d4ddadc07170"
      },
      "execution_count": 26,
      "outputs": [
        {
          "output_type": "stream",
          "name": "stdout",
          "text": [
            "15\n",
            "120\n"
          ]
        }
      ]
    },
    {
      "cell_type": "code",
      "source": [
        "# 키워드 매개변수, kwargs\n",
        "def print_kwargs(**kwargs):\n",
        "     print(kwargs)\n",
        "\n",
        "print_kwargs(a=1)\n",
        "print_kwargs(name='foo', age=3)\n",
        "\n",
        "# 매개변수 이름 앞에 **을 붙이면 매개변수 kwargs는 딕셔너리가 되고\n",
        "# 모든 Key=Value 형태의 입력값이 그 딕셔너리에 저장된다"
      ],
      "metadata": {
        "colab": {
          "base_uri": "https://localhost:8080/"
        },
        "id": "GPXJuSJGyfDW",
        "outputId": "38965abc-2f34-4fb9-d46e-4c39476412fe"
      },
      "execution_count": 31,
      "outputs": [
        {
          "output_type": "stream",
          "name": "stdout",
          "text": [
            "{'a': 1}\n",
            "{'name': 'foo', 'age': 3}\n"
          ]
        }
      ]
    },
    {
      "cell_type": "code",
      "source": [
        "# 함수의 리턴값은 언제나 하나\n",
        "def add_and_mul(a,b):\n",
        "     return a+b, a*b\n",
        "\n",
        "result = add_and_mul(3,4)\n",
        "print(result)\n",
        "\n",
        "#  리턴값 a+b와 a*b는 튜플값 하나인 (a+b, a*b)로 리턴된다.\n",
        "result1, result2 = add_and_mul(3, 4)\n",
        "print(result1)"
      ],
      "metadata": {
        "colab": {
          "base_uri": "https://localhost:8080/"
        },
        "id": "yU0CFP0dy5JO",
        "outputId": "2097b8c0-3c7e-42f0-f165-7ff40882c5ae"
      },
      "execution_count": 33,
      "outputs": [
        {
          "output_type": "stream",
          "name": "stdout",
          "text": [
            "(7, 12)\n",
            "7\n"
          ]
        }
      ]
    },
    {
      "cell_type": "code",
      "source": [
        "def add_and_mul(a,b):\n",
        "     return a+b\n",
        "     return a*b  # 실행되지 않음\n",
        "\n",
        "result = add_and_mul(2, 3)\n",
        "print(result)\n",
        "\n",
        "# 함수는 return 문을 만나는 순간, 리턴값을 돌려 준 다음 함수를 빠져나가게 된다."
      ],
      "metadata": {
        "colab": {
          "base_uri": "https://localhost:8080/"
        },
        "id": "_0nABjrHzVbu",
        "outputId": "6139d6b4-b7f8-4eea-9934-2dfbb1dcef3b"
      },
      "execution_count": 35,
      "outputs": [
        {
          "output_type": "stream",
          "name": "stdout",
          "text": [
            "5\n"
          ]
        }
      ]
    },
    {
      "cell_type": "code",
      "source": [
        "def say_nick(nick):\n",
        "     if nick == \"바보\":\n",
        "         return\n",
        "     print(\"나의 별명은 %s 입니다.\" % nick)\n",
        "\n",
        "say_nick('야호')\n",
        "say_nick('바보')  # return 으로 인해 print 실행전 함수를 빠져나감\n",
        "\n",
        "print(\"=\"*30)\n",
        "\n",
        "def say_nick(nick):\n",
        "     print(\"나의 별명은 %s 입니다.\" % nick)\n",
        "     if nick == \"바보\":\n",
        "         return\n",
        "\n",
        "say_nick('야호')\n",
        "say_nick('바보')"
      ],
      "metadata": {
        "colab": {
          "base_uri": "https://localhost:8080/"
        },
        "id": "blpLSURhzn6O",
        "outputId": "5d64216c-3609-4062-f923-e882fc2ca536"
      },
      "execution_count": 39,
      "outputs": [
        {
          "output_type": "stream",
          "name": "stdout",
          "text": [
            "나의 별명은 야호 입니다.\n",
            "==============================\n",
            "나의 별명은 야호 입니다.\n",
            "나의 별명은 바보 입니다.\n"
          ]
        }
      ]
    },
    {
      "cell_type": "code",
      "source": [
        "# 매개변수에 초깃값 미리 설정하기\n",
        "def say_myself(name, age, man=True):\n",
        "    print(\"나의 이름은 %s 입니다.\" % name)\n",
        "    print(\"나이는 %d살입니다.\" % age)\n",
        "    if man:\n",
        "        print(\"남자입니다.\")\n",
        "    else:\n",
        "        print(\"여자입니다.\")\n",
        "\n",
        "say_myself(name=\"원준\", age=30) # man이라는 변수에는 입력값을 주지 않았지만, man은 초깃값 True를 갖게 된다.\n",
        "print(\"=\"*30)\n",
        "say_myself(\"박응선\", 27, False)"
      ],
      "metadata": {
        "colab": {
          "base_uri": "https://localhost:8080/"
        },
        "id": "8ZN7guuKz1Gu",
        "outputId": "7f8e3323-4f91-458f-f46c-caedc7899760"
      },
      "execution_count": 42,
      "outputs": [
        {
          "output_type": "stream",
          "name": "stdout",
          "text": [
            "나의 이름은 원준 입니다.\n",
            "나이는 30살입니다.\n",
            "남자입니다.\n",
            "==============================\n",
            "나의 이름은 박응선 입니다.\n",
            "나이는 27살입니다.\n",
            "여자입니다.\n"
          ]
        }
      ]
    },
    {
      "cell_type": "code",
      "source": [
        "def say_myself(name, man=True, age):\n",
        "    print(\"나의 이름은 %s 입니다.\" % name)\n",
        "    print(\"나이는 %d살입니다.\" % age)\n",
        "    if man:\n",
        "        print(\"남자입니다.\")\n",
        "    else:\n",
        "        print(\"여자입니다.\")\n",
        "\n",
        "say_myself(\"박응용\", 27)\n",
        "\n",
        "# ‘초깃값이 없는 매개변수(age)는 초깃값이 있는 매개변수(man) 뒤에 사용할 수 없다’"
      ],
      "metadata": {
        "colab": {
          "base_uri": "https://localhost:8080/",
          "height": 110
        },
        "id": "u-sNdkol0vi3",
        "outputId": "b581a086-609b-4e39-c8d1-11a6fc3acef3"
      },
      "execution_count": 44,
      "outputs": [
        {
          "output_type": "error",
          "ename": "SyntaxError",
          "evalue": "non-default argument follows default argument (<ipython-input-44-19ff89bf0afb>, line 1)",
          "traceback": [
            "\u001b[0;36m  File \u001b[0;32m\"<ipython-input-44-19ff89bf0afb>\"\u001b[0;36m, line \u001b[0;32m1\u001b[0m\n\u001b[0;31m    def say_myself(name, man=True, age):\u001b[0m\n\u001b[0m                                   ^\u001b[0m\n\u001b[0;31mSyntaxError\u001b[0m\u001b[0;31m:\u001b[0m non-default argument follows default argument\n"
          ]
        }
      ]
    },
    {
      "cell_type": "code",
      "source": [
        "# 함수 안에서 선언한 변수의 효력 범위\n",
        "a = 1\n",
        "def vartest(a):\n",
        "    a = a +1\n",
        "\n",
        "vartest(a)\n",
        "print(a)"
      ],
      "metadata": {
        "colab": {
          "base_uri": "https://localhost:8080/"
        },
        "id": "PuVzwpbU0-XO",
        "outputId": "6e792e26-ce66-4295-ccbc-b0fa2fe7d49a"
      },
      "execution_count": 46,
      "outputs": [
        {
          "output_type": "stream",
          "name": "stdout",
          "text": [
            "None\n",
            "1\n"
          ]
        }
      ]
    },
    {
      "cell_type": "code",
      "source": [
        "del a # 이전 코드에서 정의한 a 기록 삭제\n",
        "\n",
        "def vartest(a):\n",
        "    a = a + 1\n",
        "\n",
        "vartest(3)\n",
        "print(a)\n",
        "# a 변수 선언이 없었으므로 에러"
      ],
      "metadata": {
        "colab": {
          "base_uri": "https://localhost:8080/",
          "height": 202
        },
        "id": "K0LBOvxf1TZe",
        "outputId": "49789465-c99d-4458-85dc-8e976c0ae533"
      },
      "execution_count": 48,
      "outputs": [
        {
          "output_type": "error",
          "ename": "NameError",
          "evalue": "name 'a' is not defined",
          "traceback": [
            "\u001b[0;31m---------------------------------------------------------------------------\u001b[0m",
            "\u001b[0;31mNameError\u001b[0m                                 Traceback (most recent call last)",
            "\u001b[0;32m<ipython-input-48-69d1ff7b656b>\u001b[0m in \u001b[0;36m<cell line: 0>\u001b[0;34m()\u001b[0m\n\u001b[1;32m      5\u001b[0m \u001b[0;34m\u001b[0m\u001b[0m\n\u001b[1;32m      6\u001b[0m \u001b[0mvartest\u001b[0m\u001b[0;34m(\u001b[0m\u001b[0;36m3\u001b[0m\u001b[0;34m)\u001b[0m\u001b[0;34m\u001b[0m\u001b[0;34m\u001b[0m\u001b[0m\n\u001b[0;32m----> 7\u001b[0;31m \u001b[0mprint\u001b[0m\u001b[0;34m(\u001b[0m\u001b[0ma\u001b[0m\u001b[0;34m)\u001b[0m\u001b[0;34m\u001b[0m\u001b[0;34m\u001b[0m\u001b[0m\n\u001b[0m\u001b[1;32m      8\u001b[0m \u001b[0;31m# a 변수 선언이 없었으므로 에러\u001b[0m\u001b[0;34m\u001b[0m\u001b[0;34m\u001b[0m\u001b[0m\n",
            "\u001b[0;31mNameError\u001b[0m: name 'a' is not defined"
          ]
        }
      ]
    },
    {
      "cell_type": "code",
      "source": [
        "# 함수 안에서 함수 밖의 변수를 변경하는 방법\n",
        "\n",
        "# 1. return 사용하기\n",
        "a = 1\n",
        "def vartest(a):\n",
        "    a = a +1\n",
        "    return a\n",
        "\n",
        "a = vartest(a)\n",
        "print(a)\n",
        "\n",
        "# 2. global 명령어 사용하기 (가급적 사용하지 말 것)\n",
        "a = 1\n",
        "def vartest():\n",
        "    global a\n",
        "    a = a+1\n",
        "\n",
        "vartest()\n",
        "print(a)"
      ],
      "metadata": {
        "colab": {
          "base_uri": "https://localhost:8080/"
        },
        "id": "KheO5tHl1mY2",
        "outputId": "2332bec6-f1c4-4336-9557-b86f08919664"
      },
      "execution_count": 52,
      "outputs": [
        {
          "output_type": "stream",
          "name": "stdout",
          "text": [
            "2\n",
            "2\n"
          ]
        }
      ]
    },
    {
      "cell_type": "code",
      "source": [
        "# lambda 예약어\n",
        "add = lambda a, b: a+b\n",
        "result = add(3, 4)\n",
        "print(result)\n",
        "\n",
        "# lambda로 만든 함수는 return 명령어가 없어도 표현식의 결괏값을 리턴한다."
      ],
      "metadata": {
        "colab": {
          "base_uri": "https://localhost:8080/"
        },
        "id": "U0DAIAPo2BLv",
        "outputId": "7e122765-9739-45d2-cd0e-200d02002407"
      },
      "execution_count": 53,
      "outputs": [
        {
          "output_type": "stream",
          "name": "stdout",
          "text": [
            "7\n"
          ]
        }
      ]
    }
  ]
}
